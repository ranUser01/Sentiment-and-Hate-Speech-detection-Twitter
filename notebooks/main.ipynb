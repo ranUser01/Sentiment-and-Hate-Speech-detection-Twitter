{
 "cells": [
  {
   "cell_type": "markdown",
   "id": "5cbc0c1b",
   "metadata": {},
   "source": [
    "# Project 3: Natural Language Processing \n",
    "## Authors (Group L2): \n",
    "Mariusz Oskar Kurek maku@itu.dk, Julia Trzandel jtrz@itu.dk, Janusz Jakub Wilczek jawi@itu.dk, Lini Zhang linz@itu.dk \n",
    "### Submission: 03.06.2022 / Last Modified: NA\n",
    "#### Aim:\n",
    "This notebook contains the step-by-step process of building a natural language machine learning model to automatically detect (a) Offensive language and (b) Sentiment.\n",
    "#### Data:\n",
    "The initial data was obtained from the TweetEval GitHub repository, that provides data for supervised training of classifiers for natural language processing. More specifically, it provides prepared data for several mini-projects involving the analysis of different characteristics of tweets."
   ]
  },
  {
   "cell_type": "markdown",
   "id": "e272389a",
   "metadata": {},
   "source": [
    "## Imports"
   ]
  },
  {
   "cell_type": "code",
   "execution_count": 1,
   "id": "impossible-apollo",
   "metadata": {},
   "outputs": [
    {
     "name": "stderr",
     "output_type": "stream",
     "text": [
      "[nltk_data] Downloading package punkt to /home/oscareczek/nltk_data...\n",
      "[nltk_data]   Package punkt is already up-to-date!\n",
      "[nltk_data] Downloading package stopwords to\n",
      "[nltk_data]     /home/oscareczek/nltk_data...\n",
      "[nltk_data]   Package stopwords is already up-to-date!\n"
     ]
    }
   ],
   "source": [
    "import regex as re # we use regex to process emojis\n",
    "import numpy as np\n",
    "import pandas as pd\n",
    "import pickle\n",
    "import matplotlib.pyplot as plt\n",
    "from collections import Counter\n",
    "%matplotlib inline \n",
    "\n",
    "from nltk.corpus import stopwords \n",
    "from nltk import download # required to download some nltk content\n",
    "download('punkt') # required to run some nltk functions\n",
    "download('stopwords') # required to run some nltk functions\n",
    "from nltk.tokenize import TweetTokenizer, sent_tokenize # tokenisation functions\n",
    "from nltk.lm.preprocessing import padded_everygram_pipeline # to create n-grams\n",
    "from nltk.lm import MLE, KneserNeyInterpolated # for perplexity calculations\n",
    "from nltk.metrics.agreement import AnnotationTask # to calculate inter-anotator agreement\n",
    "\n",
    "from sklearn.utils import resample # function for upsampling\n",
    "from sklearn.linear_model import SGDClassifier # Machine learning classifier \n",
    "from imblearn.pipeline import Pipeline # pipeline function\n",
    "from sklearn.feature_extraction.text import CountVectorizer, TfidfTransformer # functions to extract features from tweets\n",
    "from imblearn.over_sampling import SMOTE # Synthetic Minority Oversampling Technique\n",
    "from sklearn.model_selection import GridSearchCV, KFold # functions to automate finding mest parameters for automatic annotation"
   ]
  },
  {
   "cell_type": "markdown",
   "id": "47aabff5",
   "metadata": {},
   "source": [
    "## Defining functions "
   ]
  },
  {
   "cell_type": "markdown",
   "id": "51184be9",
   "metadata": {},
   "source": [
    "Our tokenizer 'tokenize' is based upon the demo code provided by the lecturer. However, we have made significant changes to it:\n",
    "- We remove stop words\n",
    "- We do not use unmatchable list of tokens\n",
    "- We consider emojis as tokens\n",
    "- We do not seperate hashtags from a hash sign"
   ]
  },
  {
   "cell_type": "code",
   "execution_count": 2,
   "id": "elder-amplifier",
   "metadata": {},
   "outputs": [],
   "source": [
    "def tokenize(text):\n",
    "    \n",
    "    # Initialise list\n",
    "    tokens = []\n",
    "\n",
    "    # Compile patterns for speedup\n",
    "    token_pat = re.compile(r'[\\w|#]+|\\p{Emoji}+') # parts of words and emojis\n",
    "    skippable_pat = re.compile(r'\\s+')  # typically spaces\n",
    "\n",
    "    for line in text.splitlines():\n",
    "        line = line.casefold()\n",
    "        \n",
    "        while line:\n",
    "            # Try finding a skippable token delimiter first.\n",
    "            skippable_match = re.search(skippable_pat, line)\n",
    "            if skippable_match and skippable_match.start() == 0:\n",
    "                # If there is one at the beginning of the line, just skip it.\n",
    "                line = line[skippable_match.end():]\n",
    "            else:\n",
    "                # Else try finding a real token.\n",
    "                token_match = re.search(token_pat, line)\n",
    "                if token_match and token_match.start() == 0: # If there is one at the beginning of the line, tokenize it.\n",
    "                    if line[:token_match.end()] != 'user' and line[:token_match.end()] not in stop_words : # skipping censored Twitter handles and stopwords\n",
    "                        tokens.append(line[:token_match.end()])\n",
    "                    line = line[token_match.end():]\n",
    "                    \n",
    "                else:\n",
    "                    # Else there is unmatchable material here.\n",
    "                    # It ends where a skippable or token match starts, or at the end of the line.\n",
    "                    unmatchable_end = len(line)\n",
    "                    if skippable_match:\n",
    "                        unmatchable_end = skippable_match.start()\n",
    "                    if token_match:\n",
    "                        unmatchable_end = min(unmatchable_end, token_match.start())\n",
    "                    # Add it to unmatchable and discard from line.\n",
    "                    line = line[unmatchable_end:]\n",
    "\n",
    "    return tokens"
   ]
  },
  {
   "cell_type": "markdown",
   "id": "158722da",
   "metadata": {},
   "source": [
    "`freq_plot` makes 3 plots of our tokens:\n",
    "- Cumulative frequency by index\n",
    "- Cumulative frequency by index, top 10000 tokens\n",
    "- Log-log plot for Zipf's law"
   ]
  },
  {
   "cell_type": "code",
   "execution_count": 3,
   "id": "velvet-federation",
   "metadata": {},
   "outputs": [],
   "source": [
    "def freq_plot(tokens, voc, idx):\n",
    "    frq = pd.DataFrame(voc.most_common(), columns=['token', 'frequency'])\n",
    "\n",
    "    # Index in the sorted list\n",
    "    frq['idx'] = frq.index + 1\n",
    "\n",
    "    # Frequency normalised by corpus size\n",
    "    frq['norm_freq'] = frq.frequency / len(tokens)\n",
    "\n",
    "    # Cumulative normalised frequency\n",
    "    frq['cumul_frq'] = frq.norm_freq.cumsum()\n",
    "    \n",
    "    xlabel = 'Rank'\n",
    "    ylabel = 'Cumulative frequency'\n",
    "    \n",
    "    fig, axs = plt.subplots(1, 3, figsize=(13, 7))\n",
    "    \n",
    "    fig.suptitle(idx) \n",
    "    \n",
    "    # Plot: Cumulative frequency by index\n",
    "    axs[0].scatter(x='idx', y='cumul_frq', data=frq)\n",
    "    axs[0].set_xlabel(xlabel)\n",
    "    axs[0].set_ylabel(ylabel)\n",
    "\n",
    "    # Plot: Normalized frequency by index, top 10000 tokens, and Zipf's law\n",
    "    max_x = min(10000, len(frq))\n",
    "    axs[1].fill_between(frq['idx'][:max_x], frq['norm_freq'][:max_x])\n",
    "    axs[1].plot(frq['idx'][:max_x], frq['norm_freq'][:max_x], lw=4)\n",
    "    xs = np.arange(10, max_x + 1)\n",
    "    axs[1].set_xlim(1, max_x)\n",
    "    axs[1].set_ylim(0, frq['norm_freq'][0])\n",
    "    axs[1].plot(xs, .1 / (xs + 1), c='red')\n",
    "    axs[1].set_xlabel(xlabel)\n",
    "    axs[1].set_ylabel(ylabel)    \n",
    "\n",
    "    # Plot: Log-log plot for Zipf's law\n",
    "    \n",
    "    frq['log_frq'] = np.log(frq.frequency)\n",
    "    frq['log_rank'] = np.log(frq.frequency.rank(ascending=False))\n",
    "    \n",
    "    max_p, min_p = max(frq['log_frq']),min(frq['log_frq'])\n",
    "    xs = np.arange(min_p,max_p,0.1)\n",
    "    \n",
    "    axs[2].scatter(x='log_rank', y='log_frq', data=frq)\n",
    "    axs[2].plot([min_p, max_p], [max_p, min_p], c='red')\n",
    "    axs[2].set_xlabel('log(rank)')\n",
    "    axs[2].set_ylabel('log(frequency)')\n",
    "    \n",
    "    plt.tight_layout()"
   ]
  },
  {
   "cell_type": "markdown",
   "id": "e77ba38b",
   "metadata": {},
   "source": [
    "`read_text` creates a list of tokenized tweets or loads them from a file if possible."
   ]
  },
  {
   "cell_type": "code",
   "execution_count": 4,
   "id": "93169300",
   "metadata": {},
   "outputs": [],
   "source": [
    "def read_text(path: str, dataset:str):\n",
    "    try:\n",
    "        return pickle.load(open(f'../data/processed/{dataset}_{path}_tokens.dat', 'rb'))\n",
    "    except:\n",
    "        text = [tokenize(tweet) for tweet in open(f'../data/{dataset}/{path}_text.txt', 'r', encoding='utf-8').read().splitlines()]\n",
    "        pickle.dump(text, open(f'../data/processed/{dataset}_{path}_tokens.dat', 'wb'))\n",
    "        return text"
   ]
  },
  {
   "cell_type": "markdown",
   "id": "78d34ee9",
   "metadata": {},
   "source": [
    "`create_df` creates a pandas dataframe of our tokens and a respective label"
   ]
  },
  {
   "cell_type": "code",
   "execution_count": 5,
   "id": "60e97614",
   "metadata": {},
   "outputs": [],
   "source": [
    "def create_df(path:str, dataset:str):\n",
    "    tweets = read_text(path, dataset)\n",
    "    labels = list(map(int, open(f'../data/{dataset}/{path}_labels.txt', 'r', encoding='utf-8').read().splitlines()))\n",
    "    df = pd.DataFrame(labels,columns =['label'])    \n",
    "    \n",
    "    for i in range(len(tweets)):\n",
    "        tweets[i] = ' '.join(tweets[i]) # concatenate the list of tokens into a string \n",
    "    \n",
    "    df['tweet'] = tweets\n",
    "    \n",
    "    return(df)"
   ]
  },
  {
   "cell_type": "markdown",
   "id": "cbb4a9e8",
   "metadata": {},
   "source": [
    "## Global variables"
   ]
  },
  {
   "cell_type": "code",
   "execution_count": 6,
   "id": "012e83ff",
   "metadata": {},
   "outputs": [],
   "source": [
    "stop_words = set(stopwords.words('english'))\n",
    "keys = ['offensive', 'sentiment', 'gatsby']"
   ]
  },
  {
   "cell_type": "markdown",
   "id": "f228df66",
   "metadata": {},
   "source": [
    "## Tokenizers comparison\n",
    "\n",
    "Before we can train any machine learning (ML) model to annotate data, we first need to analyze our data and extract features from it. The structure of tweets is as follows:\n",
    "- each tweet consist of sentences \n",
    "- each sentence consists of words\n",
    "\n",
    "Some basic ML algorithms can't take strings as input, like sentences. Therefore, we need to transform our data into a form recognisable by ML algorithms. It has become customary in natural language processing (NLP) to name words as tokens, which nomenclature we use later on. At some point we need to convert our strings into numbers. However, we do it later in the notebook and firstly we compare two tokenization methods. \n",
    "\n",
    "We have chosen two tokenization implementations for this study, one from NLTK package and one provided to us by Associate Professor at IT-University of Copenhagen Christian Hardmeier chrha@itu.dk. Nonehteless, we edited the provided code to hopefully improve its performance. "
   ]
  },
  {
   "cell_type": "code",
   "execution_count": 7,
   "id": "8a413113",
   "metadata": {},
   "outputs": [],
   "source": [
    "tk = TweetTokenizer(preserve_case=False, strip_handles=True, reduce_len=True) # initaiate tokenizer object"
   ]
  },
  {
   "cell_type": "markdown",
   "id": "aa2e5eee",
   "metadata": {},
   "source": [
    "To compare the tokenizers, we create dictionaries, for which keys are names of datasets, and their respective values are tuples, where at index 0 are reults from NLTK tokenizer, and at index 1 results from our implementation. Dictionary \"tokens\" consists of tokenized tweets, whehreas \"counters\" is a bag of words, e.i. sum of occurances for each token. "
   ]
  },
  {
   "cell_type": "code",
   "execution_count": 8,
   "id": "smart-paraguay",
   "metadata": {},
   "outputs": [
    {
     "name": "stdout",
     "output_type": "stream",
     "text": [
      "Offensive\n",
      "---------\n",
      "Our tokenizer found 125030 tokens, 19135 of which (or 15.3%) are unique.\n",
      "TweetTokenizer found 271264 tokens, 19736 of which (or 7.28%) are unique.\n",
      "\n",
      "Sentiment\n",
      "---------\n",
      "Our tokenizer found 537228 tokens, 45314 of which (or 8.43%) are unique.\n",
      "TweetTokenizer found 1015580 tokens, 49124 of which (or 4.84%) are unique.\n",
      "\n",
      "Gatsby\n",
      "------\n",
      "Our tokenizer found 23634 tokens, 5694 of which (or 24.09%) are unique.\n",
      "TweetTokenizer found 61266 tokens, 5936 of which (or 9.69%) are unique.\n",
      "\n"
     ]
    }
   ],
   "source": [
    "tokens = dict()\n",
    "counters = dict() \n",
    "\n",
    "for key in keys:\n",
    "    \n",
    "    if key == 'gatsby':\n",
    "        # The Great Gatsby has a different path, also we remove Gutenberg's header and footer\n",
    "        text = open('../data/GreatGatsby.txt', 'r', encoding='utf-8').read().split('***')[2]\n",
    "    else:\n",
    "        text = open(f'../data/{key}/train_text.txt', 'r', encoding='utf-8').read()\n",
    "        \n",
    "    tokens[key] = (tokenize(text), tk.tokenize(text))\n",
    "    counters[key] = (Counter(tokens[key][0]), Counter(tokens[key][1]))\n",
    "\n",
    "    # Code below prints the key statistics about tokenizers' output in each dataset \n",
    "    \n",
    "    print(key.capitalize())\n",
    "    print('-' * len(key))\n",
    "    \n",
    "    length = len(tokens[key][0])\n",
    "    length_counter = len(counters[key][0])\n",
    "    print(f\"\"\"Our tokenizer found {length} tokens, {length_counter} of which\\\n",
    " (or {round(100 * length_counter / length, 2)}%) are unique.\"\"\")\n",
    "    \n",
    "    length = len(tokens[key][1])\n",
    "    length_counter = len(counters[key][1])\n",
    "    print(f\"\"\"TweetTokenizer found {length} tokens, {length_counter} of which\\\n",
    " (or {round(100 * length_counter / length, 2)}%) are unique.\\n\"\"\")"
   ]
  },
  {
   "cell_type": "markdown",
   "id": "b163bccd",
   "metadata": {},
   "source": [
    "We observe that our tokenizer creates less and more unique tokens than NLTK method, across all datasets. However, it follows our expectations since our tokenizer removes stopwords, which NLTK does not. We can see it in the statistics below."
   ]
  },
  {
   "cell_type": "code",
   "execution_count": 9,
   "id": "91fa1049",
   "metadata": {},
   "outputs": [
    {
     "name": "stdout",
     "output_type": "stream",
     "text": [
      "20 most common words\n",
      "\n",
      "Offensive our tokenizer:\n",
      " 1. liberals - 1245 occurences\n",
      " 2. gun - 1244 occurences\n",
      " 3. control - 1106 occurences\n",
      " 4. like - 1005 occurences\n",
      " 5. antifa - 1004 occurences\n",
      " 6. people - 834 occurences\n",
      " 7. conservatives - 776 occurences\n",
      " 8. #maga - 737 occurences\n",
      " 9. amp - 615 occurences\n",
      "10. get - 589 occurences\n",
      "11. one - 574 occurences\n",
      "12. know - 563 occurences\n",
      "13. trump - 533 occurences\n",
      "14. think - 487 occurences\n",
      "15. would - 472 occurences\n",
      "16. right - 444 occurences\n",
      "17. good - 419 occurences\n",
      "18. time - 353 occurences\n",
      "19. us - 349 occurences\n",
      "20. go - 349 occurences\n",
      "\n",
      "Offensive NLTK lib. tokenizer:\n",
      " 1. . - 12805 occurences\n",
      " 2. the - 8128 occurences\n",
      " 3. is - 5859 occurences\n",
      " 4. to - 5587 occurences\n",
      " 5. a - 4840 occurences\n",
      " 6. you - 4738 occurences\n",
      " 7. and - 4600 occurences\n",
      " 8. ! - 4332 occurences\n",
      " 9. \" - 4238 occurences\n",
      "10. of - 3441 occurences\n",
      "11. are - 3235 occurences\n",
      "12. i - 3034 occurences\n",
      "13. he - 2646 occurences\n",
      "14. ? - 2638 occurences\n",
      "15. that - 2534 occurences\n",
      "16. in - 2427 occurences\n",
      "17. ’ - 2323 occurences\n",
      "18. for - 2247 occurences\n",
      "19. she - 2222 occurences\n",
      "20. it - 2055 occurences\n",
      "\n",
      "Sentiment our tokenizer:\n",
      " 1. tomorrow - 7379 occurences\n",
      " 2. may - 6679 occurences\n",
      " 3. u002c - 4467 occurences\n",
      " 4. day - 3866 occurences\n",
      " 5. going - 3029 occurences\n",
      " 6. night - 3013 occurences\n",
      " 7. see - 2821 occurences\n",
      " 8. friday - 2750 occurences\n",
      " 9. sunday - 2669 occurences\n",
      "10. 1st - 2658 occurences\n",
      "11. like - 2494 occurences\n",
      "12. time - 2443 occurences\n",
      "13. get - 2232 occurences\n",
      "14. saturday - 2172 occurences\n",
      "15. amp - 2013 occurences\n",
      "16. go - 1981 occurences\n",
      "17. one - 1934 occurences\n",
      "18. 2nd - 1908 occurences\n",
      "19. new - 1855 occurences\n",
      "20. u2019s - 1803 occurences\n",
      "\n",
      "Sentiment NLTK lib. tokenizer:\n",
      " 1. the - 37984 occurences\n",
      " 2. . - 32530 occurences\n",
      " 3. \" - 29124 occurences\n",
      " 4. to - 20923 occurences\n",
      " 5. , - 17627 occurences\n",
      " 6. ! - 16090 occurences\n",
      " 7. in - 13670 occurences\n",
      " 8. i - 13604 occurences\n",
      " 9. on - 13098 occurences\n",
      "10. a - 12983 occurences\n",
      "11. and - 12691 occurences\n",
      "12. of - 10887 occurences\n",
      "13. \\ - 10614 occurences\n",
      "14. for - 9988 occurences\n",
      "15. is - 9701 occurences\n",
      "16. ... - 8405 occurences\n",
      "17. you - 8280 occurences\n",
      "18. with - 7539 occurences\n",
      "19. be - 7248 occurences\n",
      "20. tomorrow - 7246 occurences\n",
      "\n",
      "Gatsby our tokenizer:\n",
      " 1. gatsby - 264 occurences\n",
      " 2. said - 235 occurences\n",
      " 3. tom - 191 occurences\n",
      " 4. daisy - 186 occurences\n",
      " 5. one - 152 occurences\n",
      " 6. like - 122 occurences\n",
      " 7. man - 114 occurences\n",
      " 8. back - 109 occurences\n",
      " 9. came - 108 occurences\n",
      "10. little - 103 occurences\n",
      "11. know - 99 occurences\n",
      "12. house - 95 occurences\n",
      "13. went - 91 occurences\n",
      "14. eyes - 89 occurences\n",
      "15. looked - 85 occurences\n",
      "16. got - 85 occurences\n",
      "17. come - 84 occurences\n",
      "18. old - 84 occurences\n",
      "19. mr - 84 occurences\n",
      "20. time - 83 occurences\n",
      "\n",
      "Gatsby NLTK lib. tokenizer:\n",
      " 1. . - 3105 occurences\n",
      " 2. , - 2967 occurences\n",
      " 3. the - 2398 occurences\n",
      " 4. and - 1567 occurences\n",
      " 5. “ - 1457 occurences\n",
      " 6. ” - 1455 occurences\n",
      " 7. a - 1408 occurences\n",
      " 8. i - 1393 occurences\n",
      " 9. ’ - 1346 occurences\n",
      "10. to - 1130 occurences\n",
      "11. of - 1116 occurences\n",
      "12. he - 854 occurences\n",
      "13. in - 806 occurences\n",
      "14. was - 768 occurences\n",
      "15. that - 642 occurences\n",
      "16. it - 606 occurences\n",
      "17. you - 522 occurences\n",
      "18. his - 494 occurences\n",
      "19. s - 472 occurences\n",
      "20. with - 424 occurences\n",
      "\n"
     ]
    }
   ],
   "source": [
    "print('20 most common words\\n')\n",
    "for key in keys:\n",
    "    print(f'{key.capitalize()} our tokenizer:')\n",
    "    for rank, word in enumerate(counters[key][0].most_common(20), 1):\n",
    "        print(f'{rank: >2}. {word[0]} - {word[1]} occurences')\n",
    "    print()    \n",
    "    \n",
    "    print(f'{key.capitalize()} NLTK lib. tokenizer:')\n",
    "    for rank, word in enumerate(counters[key][1].most_common(20), 1):\n",
    "        print(f'{rank: >2}. {word[0]} - {word[1]} occurences')    \n",
    "    print()"
   ]
  },
  {
   "cell_type": "markdown",
   "id": "49a15bb3",
   "metadata": {},
   "source": [
    "One of the most popular tokens generated by NLTK, are:\n",
    "-the \n",
    "-a\n",
    "-.\n",
    "-!\n",
    "We believe that such tokens are valueless in our case since they do not help detect either sentiment or offensive language. In case of offensive language, we think that swear words or invectivesa are determinators of offence.\n",
    "\n",
    "It must be noted, that our tokeniser generated gibbrish tokens, such as \"u002c\", which is a Unicode representation of a comma. Nonehteless, if we look into our data, we can see that it contains such errors. Thus, the cause is not in our implementation, but the data itself is corrupted.  "
   ]
  },
  {
   "cell_type": "markdown",
   "id": "928ca930",
   "metadata": {},
   "source": [
    "## Zipf's law\n",
    "\n",
    "According to Brittanica encyclopedia [1], Zipf's law defines a property in English language that frequency of any words is inversly propotional to its rank in the frequency table:\n",
    "\n",
    "$$F(r) = \\frac{0.1}{r} $$\n",
    "\n",
    "where r is a rank of the word. \n",
    "\n",
    "It means that, the most common word appears about 10% of the time in any text, where as second most common word appears about 5%, third around 2.5% and so on. \n",
    "\n",
    "Given that property, we should observe zipf's law in our data. To investigate that, we make a cummulative plot, bar plot and log-log plot with a zipf's law line. \n",
    "\n",
    "[1] - https://www.britannica.com/topic/Zipfs-law"
   ]
  },
  {
   "cell_type": "markdown",
   "id": "dfffe0b0",
   "metadata": {},
   "source": [
    "Plots for our tokenizer:"
   ]
  },
  {
   "cell_type": "code",
   "execution_count": 10,
   "id": "6b21e972",
   "metadata": {
    "scrolled": true
   },
   "outputs": [
    {
     "data": {
      "image/png": "[encoded data removed]",
      "text/plain": [
       "<Figure size 936x504 with 3 Axes>"
      ]
     },
     "metadata": {
      "needs_background": "light"
     },
     "output_type": "display_data"
    },
    {
     "data": {
      "image/png": "[encoded data removed]",
      "text/plain": [
       "<Figure size 936x504 with 3 Axes>"
      ]
     },
     "metadata": {
      "needs_background": "light"
     },
     "output_type": "display_data"
    },
    {
     "data": {
      "image/png": "[encoded data removed]",
      "text/plain": [
       "<Figure size 936x504 with 3 Axes>"
      ]
     },
     "metadata": {
      "needs_background": "light"
     },
     "output_type": "display_data"
    }
   ],
   "source": [
    "for key in keys:\n",
    "    freq_plot(tokens[key][0], counters[key][0], key)"
   ]
  },
  {
   "cell_type": "markdown",
   "id": "93d07c33",
   "metadata": {},
   "source": [
    "Plots for NLTK tokenizer:"
   ]
  },
  {
   "cell_type": "code",
   "execution_count": 11,
   "id": "80bf0ddf",
   "metadata": {},
   "outputs": [
    {
     "data": {
      "image/png": "[encoded data removed]",
      "text/plain": [
       "<Figure size 936x504 with 3 Axes>"
      ]
     },
     "metadata": {
      "needs_background": "light"
     },
     "output_type": "display_data"
    },
    {
     "data": {
      "image/png": "[encoded data removed]",
      "text/plain": [
       "<Figure size 936x504 with 3 Axes>"
      ]
     },
     "metadata": {
      "needs_background": "light"
     },
     "output_type": "display_data"
    },
    {
     "data": {
      "image/png": "[encoded data removed]",
      "text/plain": [
       "<Figure size 936x504 with 3 Axes>"
      ]
     },
     "metadata": {
      "needs_background": "light"
     },
     "output_type": "display_data"
    }
   ],
   "source": [
    "for key in keys:\n",
    "    freq_plot(tokens[key][1], counters[key][1], key)"
   ]
  },
  {
   "cell_type": "code",
   "execution_count": 12,
   "id": "f39473ed",
   "metadata": {},
   "outputs": [],
   "source": [
    "# drop gatsby since we won't use it anymore\n",
    "try:\n",
    "    counters.pop('gatsby')\n",
    "    tokens.pop('gatsby')\n",
    "    keys.remove('gatsby')\n",
    "except KeyError:\n",
    "    pass\n",
    "except ValueError:\n",
    "    pass\n"
   ]
  },
  {
   "cell_type": "markdown",
   "id": "b15e423c",
   "metadata": {},
   "source": [
    "## Further data investigation "
   ]
  },
  {
   "cell_type": "markdown",
   "id": "1959186d",
   "metadata": {},
   "source": [
    "We drop tokens from NLTK since we belive our tokenzier generates better output. "
   ]
  },
  {
   "cell_type": "code",
   "execution_count": 13,
   "id": "62ebc778",
   "metadata": {},
   "outputs": [],
   "source": [
    "# droping tweet tokenizer results at index 1 \n",
    "for key in keys:\n",
    "    if type(tokens[key]) == tuple:\n",
    "        tokens[key] = tokens[key][0]\n",
    "        \n",
    "    if type(counters[key]) == tuple:\n",
    "        counters[key] = counters[key][0]"
   ]
  },
  {
   "cell_type": "markdown",
   "id": "f894e4ad",
   "metadata": {},
   "source": [
    "We compare the most frequent tokens with a fueqency dictionary list for English"
   ]
  },
  {
   "cell_type": "code",
   "execution_count": 14,
   "id": "e990aec8",
   "metadata": {},
   "outputs": [
    {
     "name": "stdout",
     "output_type": "stream",
     "text": [
      "Most frequent words in general word list for English:\n",
      "   lemma\n",
      "0    the\n",
      "1     be\n",
      "2    and\n",
      "3      a\n",
      "4     of\n",
      "5     to\n",
      "6     in\n",
      "7      i\n",
      "8    you\n",
      "9     it\n",
      "10  have\n",
      "11    to\n",
      "12  that\n",
      "13   for\n",
      "14    do\n",
      "15    he\n",
      "16  with\n",
      "17    on\n",
      "18  this\n",
      "19   n't\n",
      "\n",
      "Offensive:\n",
      "0   liberals\n",
      "1   gun\n",
      "2   control\n",
      "3   like\n",
      "4   antifa\n",
      "5   people\n",
      "6   conservatives\n",
      "7   #maga\n",
      "8   amp\n",
      "9   get\n",
      "10  one\n",
      "11  know\n",
      "12  trump\n",
      "13  think\n",
      "14  would\n",
      "15  right\n",
      "16  good\n",
      "17  time\n",
      "18  us\n",
      "19  go\n",
      "\n",
      "Sentiment:\n",
      "0   tomorrow\n",
      "1   may\n",
      "2   u002c\n",
      "3   day\n",
      "4   going\n",
      "5   night\n",
      "6   see\n",
      "7   friday\n",
      "8   sunday\n",
      "9   1st\n",
      "10  like\n",
      "11  time\n",
      "12  get\n",
      "13  saturday\n",
      "14  amp\n",
      "15  go\n",
      "16  one\n",
      "17  2nd\n",
      "18  new\n",
      "19  u2019s\n",
      "\n"
     ]
    }
   ],
   "source": [
    "wordfre = pd.read_excel(r'../data/wordFrequency.xlsx', sheet_name='1 lemmas')\n",
    "fre_words = pd.DataFrame(wordfre, columns= ['lemma'])\n",
    "print(\"Most frequent words in general word list for English:\")\n",
    "print(fre_words.head(20))\n",
    "print()\n",
    "\n",
    "for key in keys:\n",
    "    print(f'{key.capitalize()}:')\n",
    "    for rank, word in enumerate(counters[key].most_common(20)):\n",
    "        print(f'{rank: <2}  {word[0]}')\n",
    "    print()"
   ]
  },
  {
   "cell_type": "markdown",
   "id": "8814008b",
   "metadata": {},
   "source": [
    "Our most frequent tokens are different from most common words in English language. Nonetheless, it is what we expected since we remove stopwords from tokens.\n",
    "\n",
    "We look at the least frequent tokens to test if our tokenizer generates some outliers or unexpected tokens."
   ]
  },
  {
   "cell_type": "code",
   "execution_count": 15,
   "id": "ada4df48",
   "metadata": {
    "scrolled": true
   },
   "outputs": [
    {
     "name": "stdout",
     "output_type": "stream",
     "text": [
      "Offensive:\n",
      "countrymen\t1\n",
      "eight\t3\n",
      "denied\t3\n",
      "breitbarters\t1\n",
      "progressing\t1\n",
      "reads\t1\n",
      "fiona\t3\n",
      "parody\t2\n",
      "unto\t1\n",
      "heat\t3\n",
      "optic\t1\n",
      "optics\t2\n",
      "substance\t2\n",
      "vetsresistsquadron\t1\n",
      "scout\t1\n",
      "lifetimes\t1\n",
      "undone\t2\n",
      "obummer\t1\n",
      "specifics\t2\n",
      "plethora\t1\n",
      "\n",
      "Sentiment:\n",
      "qt\t3\n",
      "hogwarts\t2\n",
      "#happybirthdayremuslupin\t1\n",
      "#sj\t2\n",
      "headley\t1\n",
      "alciato\t1\n",
      "invest\t3\n",
      "louboutins\t1\n",
      "willam\t1\n",
      "cred\t1\n",
      "hmw\t1\n",
      "#hotwife\t1\n",
      "20yr\t1\n",
      "zuoma\t1\n",
      "creighton\t3\n",
      "sexist\t1\n",
      "foxx\t1\n",
      "uneasyness\t1\n",
      "patiently\t3\n",
      "bd1\t1\n",
      "\n"
     ]
    }
   ],
   "source": [
    "for key in keys:\n",
    "    print(f'{key.capitalize()}:')\n",
    "    c = 0\n",
    "    for token in counters[key].keys():\n",
    "        if counters[key][token] < 4 and c < 20:\n",
    "            print(f'{token}\\t{counters[key][token]}')\n",
    "            c+=1\n",
    "    print()"
   ]
  },
  {
   "cell_type": "markdown",
   "id": "f5594505",
   "metadata": {},
   "source": [
    "We do not see errors or counterintuitie tokens apart from some, which can be attributed to grammatical errors and own creativity of Tweeter's users, like for instance \"uneasyness\" or \"breitbarters\""
   ]
  },
  {
   "cell_type": "markdown",
   "id": "cdc0cd5e",
   "metadata": {},
   "source": [
    "## N-grams generation"
   ]
  },
  {
   "cell_type": "code",
   "execution_count": 16,
   "id": "9f88adc1",
   "metadata": {
    "scrolled": true
   },
   "outputs": [
    {
     "data": {
      "text/plain": [
       "[(('gun', 'control'), 1031),\n",
       " (('control', 'laws'), 102),\n",
       " (('❤', '️'), 72),\n",
       " (('looks', 'like'), 61),\n",
       " (('president', 'trump'), 49),\n",
       " (('\\u200d', '♂'), 46),\n",
       " (('common', 'sense'), 45),\n",
       " (('♂', '️'), 44),\n",
       " (('trump', 'supporters'), 43),\n",
       " (('#maga', '#kag'), 43),\n",
       " (('like', 'antifa'), 36),\n",
       " (('years', 'ago'), 36),\n",
       " (('\\u200d', '♀'), 34),\n",
       " (('#tcot', '#maga'), 34),\n",
       " (('️', '❤'), 34),\n",
       " (('year', 'old'), 33),\n",
       " (('♀', '️'), 33),\n",
       " (('#maga', '#rednationrising'), 33),\n",
       " (('gun', 'violence'), 32),\n",
       " (('go', 'back'), 29)]"
      ]
     },
     "execution_count": 16,
     "metadata": {},
     "output_type": "execute_result"
    }
   ],
   "source": [
    "bigrams = list(zip(tokens[\"offensive\"], tokens[\"offensive\"][1:]))\n",
    "Counter(bigrams).most_common(20)"
   ]
  },
  {
   "cell_type": "code",
   "execution_count": 17,
   "id": "paperback-lemon",
   "metadata": {},
   "outputs": [
    {
     "data": {
      "text/plain": [
       "[(('gun', 'control', 'laws'), 102),\n",
       " (('\\u200d', '♂', '️'), 44),\n",
       " (('️', '❤', '️'), 34),\n",
       " (('\\u200d', '♀', '️'), 33),\n",
       " (('#tcot', '#maga', '#rednationrising'), 33),\n",
       " (('❤', '️', '❤'), 26),\n",
       " (('common', 'sense', 'gun'), 26),\n",
       " (('sense', 'gun', 'control'), 26),\n",
       " (('need', 'gun', 'control'), 25),\n",
       " (('sensible', 'gun', 'control'), 24),\n",
       " (('strict', 'gun', 'control'), 24),\n",
       " (('️', '🇺🇸❤', '️'), 23),\n",
       " (('🇺🇸❤', '️', '🇺🇸❤'), 21),\n",
       " (('support', 'gun', 'control'), 18),\n",
       " (('gun', 'control', 'works'), 16),\n",
       " (('like', 'gun', 'control'), 15),\n",
       " (('want', 'gun', 'control'), 15),\n",
       " (('gun', 'control', 'would'), 13),\n",
       " (('law', 'abiding', 'citizens'), 13),\n",
       " (('strictest', 'gun', 'control'), 13)]"
      ]
     },
     "execution_count": 17,
     "metadata": {},
     "output_type": "execute_result"
    }
   ],
   "source": [
    "trigrams = list(zip(tokens[\"offensive\"], tokens[\"offensive\"][1:], tokens[\"offensive\"][2:]))\n",
    "Counter(trigrams).most_common(20)"
   ]
  },
  {
   "cell_type": "code",
   "execution_count": 18,
   "id": "5963693b",
   "metadata": {},
   "outputs": [
    {
     "data": {
      "text/plain": [
       "[(('❤', '️', '❤', '️'), 26),\n",
       " (('common', 'sense', 'gun', 'control'), 25),\n",
       " (('🇺🇸❤', '️', '🇺🇸❤', '️'), 21),\n",
       " (('️', '🇺🇸❤', '️', '🇺🇸❤'), 19),\n",
       " (('️', '❤', '️', '❤'), 17),\n",
       " (('strict', 'gun', 'control', 'laws'), 11),\n",
       " (('nra', 'calls', 'gun', 'control'), 10),\n",
       " (('calls', 'gun', 'control', 'research'), 10),\n",
       " (('gun', 'control', 'research', 'unethical'), 10),\n",
       " (('#tories', '#labour', '#ge2017', '#conservatives'), 9),\n",
       " (('#labour', '#ge2017', '#conservatives', 'conservatives'), 9),\n",
       " (('🤦🏾', '\\u200d', '♂', '️'), 9),\n",
       " (('🤷', '\\u200d', '♂', '️'), 9),\n",
       " (('nra', 'blames', 'gun', 'control'), 8),\n",
       " (('blames', 'gun', 'control', 'laws'), 8),\n",
       " (('kkk', 'hoods', 'beating', 'strangers'), 7),\n",
       " (('antifa', 'kkk', 'hoods', 'beating'), 6),\n",
       " (('hoods', 'beating', 'strangers', 'know'), 6),\n",
       " (('beating', 'strangers', 'know', 'nothing'), 6),\n",
       " (('\\u200d', '♂', '️', '🤦🏾'), 5)]"
      ]
     },
     "execution_count": 18,
     "metadata": {},
     "output_type": "execute_result"
    }
   ],
   "source": [
    "quadgrams = list(zip(tokens[\"offensive\"], tokens[\"offensive\"][1:], tokens[\"offensive\"][2:], tokens[\"offensive\"][3:]))\n",
    "Counter(quadgrams).most_common(20)"
   ]
  },
  {
   "cell_type": "code",
   "execution_count": 19,
   "id": "rental-ethiopia",
   "metadata": {},
   "outputs": [],
   "source": [
    "# We don't use the above for anything\n",
    "del(bigrams)\n",
    "del(trigrams)\n",
    "del(quadgrams)"
   ]
  },
  {
   "cell_type": "code",
   "execution_count": 20,
   "id": "2ada56c4",
   "metadata": {},
   "outputs": [],
   "source": [
    "#reading tweets and division into sentences of tokens\n",
    "tweets = list()\n",
    "text = open('../data/offensive/train_text.txt', 'r', encoding='utf-8').read().splitlines()\n",
    "for line in text: # divide tweets\n",
    "    tweets.append(sent_tokenize(line)) # add sentences to tweet list\n",
    "    for i in range(len(tweets[-1])): # tokenize sentences in the tweet \n",
    "        tweets[-1][i] = tokenize(tweets[-1][i])        "
   ]
  },
  {
   "cell_type": "code",
   "execution_count": 21,
   "id": "322b79a7",
   "metadata": {},
   "outputs": [
    {
     "data": {
      "text/plain": [
       "[['bono', 'cares'],\n",
       " ['soon',\n",
       "  'people',\n",
       "  'understand',\n",
       "  'gain',\n",
       "  'nothing',\n",
       "  'following',\n",
       "  'phony',\n",
       "  'celebrity'],\n",
       " ['become',\n",
       "  'leader',\n",
       "  'people',\n",
       "  'instead',\n",
       "  'help',\n",
       "  'support',\n",
       "  'fellow',\n",
       "  'countrymen']]"
      ]
     },
     "execution_count": 21,
     "metadata": {},
     "output_type": "execute_result"
    }
   ],
   "source": [
    "tweets[0]"
   ]
  },
  {
   "cell_type": "code",
   "execution_count": 22,
   "id": "31807641",
   "metadata": {},
   "outputs": [
    {
     "data": {
      "text/plain": [
       "[['looking', 'like', 'plant', '#maga', '#walkaway']]"
      ]
     },
     "execution_count": 22,
     "metadata": {},
     "output_type": "execute_result"
    }
   ],
   "source": [
    "tweets[6]"
   ]
  },
  {
   "cell_type": "markdown",
   "id": "f3937a7f",
   "metadata": {},
   "source": [
    "## Max. likelihood evaluation classifier  - perplexity classifier\n",
    "\n",
    "MLE is the simplest classifier. The chance of a word appearing after a certain phrase is defined by a formula:\n",
    "$$p(w_3|w_1, w_2) = \\frac{count(w_1w_2w_3)}{count(w_1w_2•)} $$\n",
    "The chance of the word $w_3$ appearing after two words ($w_1$, $w_2$) is the number of times this exact combination appeared before divided by the number of all trigrams starting with $w_1$ and $w_2$. This formula works similarly for other n-grams."
   ]
  },
  {
   "cell_type": "code",
   "execution_count": 23,
   "id": "cb3eff47",
   "metadata": {},
   "outputs": [
    {
     "name": "stdout",
     "output_type": "stream",
     "text": [
      "2\n",
      "---\n",
      "['</s>', 'vote', 'butt', 'hole', '</s>', 'better', 'soon', 'going', 'confuse', 'position']\n",
      "3\n",
      "---\n",
      "['</s>', '</s>', '</s>', '</s>', '</s>', '</s>', '</s>', '</s>', '</s>', '</s>']\n"
     ]
    }
   ],
   "source": [
    "lm = [None, None]\n",
    "for i in range(2, 4): \n",
    "    lm.append(MLE(i))\n",
    "    train, vocab = padded_everygram_pipeline(i,[item for sublist in tweets for item in sublist])\n",
    "    lm[i].fit(train, vocab)\n",
    "    print(f'{i}\\n---')\n",
    "    print(lm[i].generate(10))"
   ]
  },
  {
   "cell_type": "code",
   "execution_count": 24,
   "id": "906dc10b",
   "metadata": {},
   "outputs": [
    {
     "name": "stdout",
     "output_type": "stream",
     "text": [
      "0.8287781350482315\n",
      "0.0\n",
      "-0.2709421527624942\n",
      "-inf\n"
     ]
    }
   ],
   "source": [
    "print(lm[2].score('control', ['gun']))\n",
    "print(lm[2].score('Trump', ['idiot']))\n",
    "\n",
    "print(lm[2].logscore('control', ['gun']))\n",
    "print(lm[2].logscore('Trump', ['idiot']))"
   ]
  },
  {
   "cell_type": "markdown",
   "id": "b135145d",
   "metadata": {},
   "source": [
    "This model's main flaw is considering n-grams that did not appear in the training to be impossible (as we can see with bigram \"idiot Trump\"). On the other hand, \"gun control\" is the most popular bigram in this data set, so its score is high."
   ]
  },
  {
   "cell_type": "code",
   "execution_count": 25,
   "id": "99db1c10",
   "metadata": {},
   "outputs": [],
   "source": [
    "val = read_text('train', 'offensive')"
   ]
  },
  {
   "cell_type": "code",
   "execution_count": 26,
   "id": "14d2b30e",
   "metadata": {},
   "outputs": [],
   "source": [
    "# for i in range(2, 4): \n",
    "#     val_test, _ = padded_everygram_pipeline(i, val)\n",
    "#     for n, t in enumerate(val_test):\n",
    "#         if n == 10:\n",
    "#             break\n",
    "#         for word in t:\n",
    "#             print(word)\n",
    "#         print(lm[i].perplexity(t))\n",
    "        \n",
    "        "
   ]
  },
  {
   "cell_type": "markdown",
   "id": "8636d994",
   "metadata": {},
   "source": [
    "## KneserNeyInterpolated classifier - perplexity classifier \n",
    "$$p_{cont}(w) = \\frac{\\#types(•w)}{\\#types(••)}$$"
   ]
  },
  {
   "cell_type": "code",
   "execution_count": 27,
   "id": "141116fe",
   "metadata": {},
   "outputs": [],
   "source": [
    "text = read_text('train', 'offensive')"
   ]
  },
  {
   "cell_type": "code",
   "execution_count": 28,
   "id": "28dda22d",
   "metadata": {},
   "outputs": [
    {
     "name": "stdout",
     "output_type": "stream",
     "text": [
      "2\n",
      "---\n",
      "['democratic', 'process', 'acquiring', 'guns', 'controlling', 'vatican', 'walls', '</s>', 'dennehy', '</s>']\n",
      "3\n",
      "---\n",
      "['#releasethedocuments', '</s>', '</s>', '</s>', '</s>', '</s>', '</s>', '</s>', '</s>', '</s>']\n"
     ]
    }
   ],
   "source": [
    "lm = [None, None]\n",
    "for i in range(2, 4):\n",
    "    lm.append(KneserNeyInterpolated(i))\n",
    "    train, vocab = padded_everygram_pipeline(i, text)\n",
    "    lm[i].fit(train, vocab)\n",
    "    print(f'{i}\\n---')\n",
    "    print(lm[i].generate(10))"
   ]
  },
  {
   "cell_type": "code",
   "execution_count": 29,
   "id": "43f260f0",
   "metadata": {},
   "outputs": [
    {
     "name": "stdout",
     "output_type": "stream",
     "text": [
      "0.8286981860301168\n",
      "4.20065612199525e-06\n",
      "-0.27108133068085194\n",
      "-17.86095388190444\n"
     ]
    }
   ],
   "source": [
    "print(lm[2].score('control', ['gun']))\n",
    "print(lm[2].score('Trump', ['idiot']))\n",
    "\n",
    "print(lm[2].logscore('control', ['gun']))\n",
    "print(lm[2].logscore('Trump', ['idiot']))"
   ]
  },
  {
   "cell_type": "code",
   "execution_count": 30,
   "id": "fe3d402d",
   "metadata": {},
   "outputs": [],
   "source": [
    "# val = read_text('val', 'offensive')\n",
    "# for i in range(2, 4): # changed 7 to 4 \n",
    "#     val_test, _ = padded_everygram_pipeline(i, val)\n",
    "#     for n, t in enumerate(val_test):\n",
    "#         print(lm[i].perplexity(t))"
   ]
  },
  {
   "cell_type": "code",
   "execution_count": 31,
   "id": "b92541e3",
   "metadata": {},
   "outputs": [],
   "source": [
    "# choose some words, calculate for them perplexity in both models and compare them to each other, e.g. attempt to explain such perplexity score was achieved"
   ]
  },
  {
   "cell_type": "markdown",
   "id": "cb167429",
   "metadata": {},
   "source": [
    "##  Inter-annotator agreement\n",
    "https://www.nltk.org/_modules/nltk/metrics/agreement.html\n",
    "\n",
    "All the group members annotated 100 tweets as either offensive or not. We calculate some statistics based on our evaluations."
   ]
  },
  {
   "cell_type": "code",
   "execution_count": 32,
   "id": "4eec4526",
   "metadata": {},
   "outputs": [],
   "source": [
    "manual_labels = [x.split(' ') for x in open('../data/Manual_analysis.txt')]\n",
    "a = AnnotationTask(manual_labels) # us and provided labels, all \n",
    "manual_labels = manual_labels[:-100] # delete provided labels\n",
    "u = AnnotationTask(manual_labels) # only us"
   ]
  },
  {
   "cell_type": "code",
   "execution_count": 33,
   "id": "d9ef58c4",
   "metadata": {},
   "outputs": [
    {
     "name": "stdout",
     "output_type": "stream",
     "text": [
      "0.8100000000000002\n",
      "0.835\n"
     ]
    }
   ],
   "source": [
    "print(a.avg_Ao()) # degree of agreement Average observed agreement across all coders and items.\n",
    "print(u.avg_Ao())"
   ]
  },
  {
   "cell_type": "code",
   "execution_count": 34,
   "id": "2317f279",
   "metadata": {},
   "outputs": [
    {
     "name": "stdout",
     "output_type": "stream",
     "text": [
      "0.5676394021590726\n",
      "0.6125737430659504\n"
     ]
    }
   ],
   "source": [
    "print(a.pi()) #Scott 1955; here, multi-pi. Equivalent to K from Siegel and Castellan (1988).\n",
    "print(u.pi())"
   ]
  },
  {
   "cell_type": "code",
   "execution_count": 35,
   "id": "090608d8",
   "metadata": {},
   "outputs": [
    {
     "name": "stdout",
     "output_type": "stream",
     "text": [
      "0.5710652653319797\n",
      "0.613489592225138\n"
     ]
    }
   ],
   "source": [
    "print(a.kappa()) #Cohen 1960 Averages naively over kappas for each coder pair.\n",
    "print(u.kappa())"
   ]
  },
  {
   "cell_type": "markdown",
   "id": "fdbf0e1d",
   "metadata": {},
   "source": [
    "Having investigated our data and understood the theory behind annotation, we can proceed to preparing our data for ML. "
   ]
  },
  {
   "cell_type": "markdown",
   "id": "068cfd2d",
   "metadata": {},
   "source": [
    "## Imbalanced data and resampling"
   ]
  },
  {
   "cell_type": "code",
   "execution_count": 36,
   "id": "d75e5a98",
   "metadata": {},
   "outputs": [
    {
     "data": {
      "text/plain": [
       "33.07317891910037"
      ]
     },
     "execution_count": 36,
     "metadata": {},
     "output_type": "execute_result"
    }
   ],
   "source": [
    "off_labels = list(map(int, open('../data/offensive/train_labels.txt', 'r').read().splitlines()))\n",
    "sum(off_labels) / len(off_labels) * 100"
   ]
  },
  {
   "cell_type": "markdown",
   "id": "e2c98749",
   "metadata": {},
   "source": [
    "The offensive training data set, there are two times more non-offensive tweets than offensive. Thus, our data is imbalanced. For the best results, these parts should be equal. Hence, we must somehow resample our data. We present one simple method to do that. However, the upsampling method of choice for ML is Synthetic Minority Oversampling Technique (SMOTE).\n",
    "\n",
    "One the simplest ways to upsample minority class, is to create copies of the data entries from minority class. However, it does not create the satisfactory effect, since such an approach can make ML algorithm more prone to overfitting. Thus, we use later on SMOTE, and our impelmentention has only a ilustrative purpose. "
   ]
  },
  {
   "cell_type": "code",
   "execution_count": 37,
   "id": "3ca62506",
   "metadata": {},
   "outputs": [],
   "source": [
    "def upsample(df, binary: bool):\n",
    "    if binary:\n",
    "        #set the minority class to a seperate dataframe\n",
    "        df_minor = df[df['label'] == 1]\n",
    "        #set majority class to another dataframe\n",
    "        df_major = df[df['label'] != 1]  \n",
    "        \n",
    "        if len(df_minor) > len(df_major) :\n",
    "            df_major, df_minor = df_minor, df_major\n",
    "       \n",
    "\n",
    "        #concatenate the upsampled dataframe\n",
    "        df = pd.concat([resample(df_minor,random_state=42,n_samples=len(df_major),replace=True),df_major])\n",
    "    \n",
    "\n",
    "    return(df)"
   ]
  },
  {
   "cell_type": "markdown",
   "id": "e4d53aa1",
   "metadata": {},
   "source": [
    "Head of data before upsampling:"
   ]
  },
  {
   "cell_type": "code",
   "execution_count": 38,
   "id": "3f7179ce",
   "metadata": {},
   "outputs": [
    {
     "data": {
      "text/html": [
       "<div>\n",
       "<style scoped>\n",
       "    .dataframe tbody tr th:only-of-type {\n",
       "        vertical-align: middle;\n",
       "    }\n",
       "\n",
       "    .dataframe tbody tr th {\n",
       "        vertical-align: top;\n",
       "    }\n",
       "\n",
       "    .dataframe thead th {\n",
       "        text-align: right;\n",
       "    }\n",
       "</style>\n",
       "<table border=\"1\" class=\"dataframe\">\n",
       "  <thead>\n",
       "    <tr style=\"text-align: right;\">\n",
       "      <th></th>\n",
       "      <th>label</th>\n",
       "      <th>tweet</th>\n",
       "    </tr>\n",
       "  </thead>\n",
       "  <tbody>\n",
       "    <tr>\n",
       "      <th>0</th>\n",
       "      <td>0</td>\n",
       "      <td>[[bono, cares], [soon, people, understand, gai...</td>\n",
       "    </tr>\n",
       "    <tr>\n",
       "      <th>1</th>\n",
       "      <td>1</td>\n",
       "      <td>[[eight, years, republicans, denied, obama, pi...</td>\n",
       "    </tr>\n",
       "    <tr>\n",
       "      <th>2</th>\n",
       "      <td>0</td>\n",
       "      <td>[[get, line, help], [gonna, fine], [game, went...</td>\n",
       "    </tr>\n",
       "    <tr>\n",
       "      <th>3</th>\n",
       "      <td>0</td>\n",
       "      <td>[[great], [hi, fiona]]</td>\n",
       "    </tr>\n",
       "    <tr>\n",
       "      <th>4</th>\n",
       "      <td>1</td>\n",
       "      <td>[[become, parody, unto], [certainly, taken, he...</td>\n",
       "    </tr>\n",
       "    <tr>\n",
       "      <th>5</th>\n",
       "      <td>0</td>\n",
       "      <td>[[vetsresistsquadron, bullshit], [girl, scout,...</td>\n",
       "    </tr>\n",
       "    <tr>\n",
       "      <th>6</th>\n",
       "      <td>1</td>\n",
       "      <td>[[looking, like, plant, #maga, #walkaway]]</td>\n",
       "    </tr>\n",
       "    <tr>\n",
       "      <th>7</th>\n",
       "      <td>0</td>\n",
       "      <td>[[lol], [except, successful, president, lifeti...</td>\n",
       "    </tr>\n",
       "    <tr>\n",
       "      <th>8</th>\n",
       "      <td>0</td>\n",
       "      <td>[[willie, fan, since, born, love, holding, ral...</td>\n",
       "    </tr>\n",
       "    <tr>\n",
       "      <th>9</th>\n",
       "      <td>0</td>\n",
       "      <td>[[link, channel, plethora, topics, peruse]]</td>\n",
       "    </tr>\n",
       "  </tbody>\n",
       "</table>\n",
       "</div>"
      ],
      "text/plain": [
       "   label                                              tweet\n",
       "0      0  [[bono, cares], [soon, people, understand, gai...\n",
       "1      1  [[eight, years, republicans, denied, obama, pi...\n",
       "2      0  [[get, line, help], [gonna, fine], [game, went...\n",
       "3      0                             [[great], [hi, fiona]]\n",
       "4      1  [[become, parody, unto], [certainly, taken, he...\n",
       "5      0  [[vetsresistsquadron, bullshit], [girl, scout,...\n",
       "6      1         [[looking, like, plant, #maga, #walkaway]]\n",
       "7      0  [[lol], [except, successful, president, lifeti...\n",
       "8      0  [[willie, fan, since, born, love, holding, ral...\n",
       "9      0        [[link, channel, plethora, topics, peruse]]"
      ]
     },
     "execution_count": 38,
     "metadata": {},
     "output_type": "execute_result"
    }
   ],
   "source": [
    "df = pd.DataFrame(off_labels, columns = ['label'])\n",
    "df['tweet'] = tweets\n",
    "df.head(10)"
   ]
  },
  {
   "cell_type": "markdown",
   "id": "06811128",
   "metadata": {},
   "source": [
    "Head of data and ratio between minority/majority class after upsampling:"
   ]
  },
  {
   "cell_type": "code",
   "execution_count": 39,
   "id": "dbaf3af5",
   "metadata": {},
   "outputs": [
    {
     "name": "stdout",
     "output_type": "stream",
     "text": [
      "50.0\n"
     ]
    },
    {
     "data": {
      "text/html": [
       "<div>\n",
       "<style scoped>\n",
       "    .dataframe tbody tr th:only-of-type {\n",
       "        vertical-align: middle;\n",
       "    }\n",
       "\n",
       "    .dataframe tbody tr th {\n",
       "        vertical-align: top;\n",
       "    }\n",
       "\n",
       "    .dataframe thead th {\n",
       "        text-align: right;\n",
       "    }\n",
       "</style>\n",
       "<table border=\"1\" class=\"dataframe\">\n",
       "  <thead>\n",
       "    <tr style=\"text-align: right;\">\n",
       "      <th></th>\n",
       "      <th>label</th>\n",
       "      <th>tweet</th>\n",
       "    </tr>\n",
       "  </thead>\n",
       "  <tbody>\n",
       "    <tr>\n",
       "      <th>9657</th>\n",
       "      <td>1</td>\n",
       "      <td>[[see, boobs, lol, 😂😜😘😇]]</td>\n",
       "    </tr>\n",
       "    <tr>\n",
       "      <th>10662</th>\n",
       "      <td>1</td>\n",
       "      <td>[[bull, shit, stop, putting, words, people, mo...</td>\n",
       "    </tr>\n",
       "    <tr>\n",
       "      <th>2530</th>\n",
       "      <td>1</td>\n",
       "      <td>[[*, lives, chicago, *, thinks, gun, control, ...</td>\n",
       "    </tr>\n",
       "    <tr>\n",
       "      <th>3886</th>\n",
       "      <td>1</td>\n",
       "      <td>[[little, ass, boy, 🐒]]</td>\n",
       "    </tr>\n",
       "    <tr>\n",
       "      <th>3357</th>\n",
       "      <td>1</td>\n",
       "      <td>[[total, phony]]</td>\n",
       "    </tr>\n",
       "    <tr>\n",
       "      <th>3285</th>\n",
       "      <td>1</td>\n",
       "      <td>[[fuckin, great, brother], [laughed, like, lit...</td>\n",
       "    </tr>\n",
       "    <tr>\n",
       "      <th>11432</th>\n",
       "      <td>1</td>\n",
       "      <td>[[love, wet, liberals, frightened, us], [yet, ...</td>\n",
       "    </tr>\n",
       "    <tr>\n",
       "      <th>9394</th>\n",
       "      <td>1</td>\n",
       "      <td>[[jose, ramirez, stealing, hitting, average, h...</td>\n",
       "    </tr>\n",
       "    <tr>\n",
       "      <th>4936</th>\n",
       "      <td>1</td>\n",
       "      <td>[[#ijustdontseemyself, ever, supporting, stric...</td>\n",
       "    </tr>\n",
       "    <tr>\n",
       "      <th>6496</th>\n",
       "      <td>1</td>\n",
       "      <td>[[hplyk, fuck]]</td>\n",
       "    </tr>\n",
       "  </tbody>\n",
       "</table>\n",
       "</div>"
      ],
      "text/plain": [
       "       label                                              tweet\n",
       "9657       1                          [[see, boobs, lol, 😂😜😘😇]]\n",
       "10662      1  [[bull, shit, stop, putting, words, people, mo...\n",
       "2530       1  [[*, lives, chicago, *, thinks, gun, control, ...\n",
       "3886       1                            [[little, ass, boy, 🐒]]\n",
       "3357       1                                   [[total, phony]]\n",
       "3285       1  [[fuckin, great, brother], [laughed, like, lit...\n",
       "11432      1  [[love, wet, liberals, frightened, us], [yet, ...\n",
       "9394       1  [[jose, ramirez, stealing, hitting, average, h...\n",
       "4936       1  [[#ijustdontseemyself, ever, supporting, stric...\n",
       "6496       1                                    [[hplyk, fuck]]"
      ]
     },
     "execution_count": 39,
     "metadata": {},
     "output_type": "execute_result"
    }
   ],
   "source": [
    "df = upsample(df, True)\n",
    "print(sum(df['label'])/len(df['label']) * 100)\n",
    "df.head(10)"
   ]
  },
  {
   "cell_type": "markdown",
   "id": "e98ec277",
   "metadata": {},
   "source": [
    "## Automatic labeling with ML\n",
    "https://imbalanced-learn.org/stable/references/generated/imblearn.pipeline.Pipeline.html\n",
    "\n",
    "We decided to use two classes to hasten our classifiers' evaluatation proccess. Firstly, we create a pipeline, whose purpose is to automate feature extraction and classifier training. There are four steps in the Pipeline:\n",
    "1. CountVectorizer: \n",
    "    - CountVectorizer object converts our tokens into numerical values, which can be processed by ML, and creates n-grams.\n",
    "2. SMOTE\n",
    "    - SMOTE is an upsampling method of choice\n",
    "3. TfidfTransformer\n",
    "    - \"Transform a count matrix to a normalized tf or tf-idf representation. Tf means term-frequency while tf-idf means term-frequency times inverse document-frequency. This is a common term weighting scheme in information retrieval, that has also found good use in document classification. The goal of using tf-idf instead of the raw frequencies of occurrence of a token in a given document is to scale down the impact of tokens that occur very frequently in a given corpus and that are hence empirically less informative than features that occur in a small fraction of the training corpus. \" [2]\n",
    "4. SGDClassifier\n",
    "    - A ML classifier of choice \n",
    "\n",
    "GridSearchCV allows us to quickly run our pipeline with diffrent parameters, store the ruslts, and return the highest F1 score.\n",
    "Running our classifier with diffrent parameters would be tedious. Thus, GridSearchCV is in order. However, we should not test our ML algorithm for many diffrent parameters since every added possible parameters, exponentially increases the number of needed tests to run. Since GridSearchCV allows us to quickly and easily assing many diffrent options, we fell into a trap, where our computers could not handle the ammount of possible combinations to run. Thus, we think an maximum number of possible parameters is around 6. If one exceeds this number, waiting for results might take days, depending on computational power. \n",
    "\n",
    "[2]https://scikit-learn.org/stable/modules/generated/sklearn.feature_extraction.text.TfidfTransformer.html"
   ]
  },
  {
   "cell_type": "code",
   "execution_count": 40,
   "id": "06813105",
   "metadata": {},
   "outputs": [],
   "source": [
    "def ml_model(dataset: str):\n",
    "    try:\n",
    "        grid = pickle.load(open(f'../data/processed/{dataset}_grid.dat', 'rb'))\n",
    "    except:\n",
    "        kf = KFold(n_splits=5, shuffle=False)\n",
    "    \n",
    "        df_train = create_df('train', dataset)\n",
    "        df_test = create_df('test', dataset)\n",
    "        df_val = create_df('val', dataset)\n",
    "    \n",
    "        df = pd.concat([df_train, df_test, df_val])\n",
    "        del(df_train)\n",
    "        del(df_test)\n",
    "        del(df_val)\n",
    "    \n",
    "        pipeline = Pipeline([('vect', CountVectorizer()),\n",
    "                            ('ovs', SMOTE()),\n",
    "                            ('tfidf', TfidfTransformer()),\n",
    "                            ('clf', SGDClassifier())])\n",
    "    \n",
    "        parameters = {'clf__loss': ['log', 'hinge', 'squared_hinge'],\n",
    "                      'vect__ngram_range': [(1, 1), (1, 2), (2, 2)],\n",
    "                      'tfidf__norm': ['l1', 'l2'],\n",
    "                      'ovs__k_neighbors': range(2, 9) \n",
    "                     }\n",
    "    \n",
    "        grid = GridSearchCV(pipeline, parameters, scoring='f1_macro', cv=kf, n_jobs=-1)\n",
    "        grid.fit(df['tweet'], df['label'])\n",
    "    \n",
    "        pickle.dump(grid, open(f'../data/processed/{dataset}_grid.dat', 'wb'))\n",
    "    finally:\n",
    "        print(f'Optimal parameters: {grid.best_params_}')\n",
    "        print(f'Best Macro F1-Score: {grid.best_score_}')\n",
    "        \n",
    "        return grid"
   ]
  },
  {
   "cell_type": "code",
   "execution_count": 41,
   "id": "ce918394",
   "metadata": {},
   "outputs": [
    {
     "name": "stdout",
     "output_type": "stream",
     "text": [
      "Optimal parameters: {'clf__loss': 'log', 'ovs__k_neighbors': 3, 'tfidf__norm': 'l2', 'vect__ngram_range': (1, 1)}\n",
      "Best Macro F1-Score: 0.6698610315686052\n",
      "GridSearchCV(cv=KFold(n_splits=5, random_state=None, shuffle=False),\n",
      "             estimator=Pipeline(steps=[('vect', CountVectorizer()),\n",
      "                                       ('ovs', SMOTE()),\n",
      "                                       ('tfidf', TfidfTransformer()),\n",
      "                                       ('clf', SGDClassifier())]),\n",
      "             n_jobs=-1,\n",
      "             param_grid={'clf__loss': ['log', 'hinge', 'squared_hinge'],\n",
      "                         'ovs__k_neighbors': range(2, 9),\n",
      "                         'tfidf__norm': ['l1', 'l2'],\n",
      "                         'vect__ngram_range': [(1, 1), (1, 2), (2, 2)]},\n",
      "             scoring='f1_macro')\n"
     ]
    }
   ],
   "source": [
    "model_off = ml_model('offensive')\n",
    "print(model_off)"
   ]
  },
  {
   "cell_type": "code",
   "execution_count": 42,
   "id": "969e89da",
   "metadata": {},
   "outputs": [
    {
     "name": "stdout",
     "output_type": "stream",
     "text": [
      "Optimal parameters: {'clf__loss': 'hinge', 'ovs__k_neighbors': 7, 'tfidf__norm': 'l2', 'vect__ngram_range': (1, 1)}\n",
      "Best Macro F1-Score: 0.5868614081028816\n",
      "GridSearchCV(cv=KFold(n_splits=5, random_state=None, shuffle=False),\n",
      "             estimator=Pipeline(steps=[('vect', CountVectorizer()),\n",
      "                                       ('ovs', SMOTE()),\n",
      "                                       ('tfidf', TfidfTransformer()),\n",
      "                                       ('clf', SGDClassifier())]),\n",
      "             n_jobs=-1,\n",
      "             param_grid={'clf__loss': ['log', 'hinge', 'squared_hinge'],\n",
      "                         'ovs__k_neighbors': range(2, 9),\n",
      "                         'tfidf__norm': ['l1', 'l2'],\n",
      "                         'vect__ngram_range': [(1, 1), (1, 2), (2, 2)]},\n",
      "             scoring='f1_macro')\n"
     ]
    }
   ],
   "source": [
    "model_sent = ml_model('sentiment')\n",
    "print(model_sent)"
   ]
  }
 ],
 "metadata": {
  "kernelspec": {
   "display_name": "Python 3",
   "language": "python",
   "name": "python3"
  },
  "language_info": {
   "codemirror_mode": {
    "name": "ipython",
    "version": 3
   },
   "file_extension": ".py",
   "mimetype": "text/x-python",
   "name": "python",
   "nbconvert_exporter": "python",
   "pygments_lexer": "ipython3",
   "version": "3.9.2"
  }
 },
 "nbformat": 4,
 "nbformat_minor": 5
}
