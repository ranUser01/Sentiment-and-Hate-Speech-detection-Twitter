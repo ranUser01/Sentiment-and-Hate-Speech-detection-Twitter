{
 "cells": [
  {
   "cell_type": "markdown",
   "id": "e272389a",
   "metadata": {},
   "source": [
    "## Imports"
   ]
  },
  {
   "cell_type": "code",
   "execution_count": 171,
   "id": "impossible-apollo",
   "metadata": {},
   "outputs": [
    {
     "name": "stderr",
     "output_type": "stream",
     "text": [
      "[nltk_data] Downloading package punkt to\n",
      "[nltk_data]     C:\\Users\\Janusz\\AppData\\Roaming\\nltk_data...\n",
      "[nltk_data]   Package punkt is already up-to-date!\n",
      "[nltk_data] Downloading package wordnet to\n",
      "[nltk_data]     C:\\Users\\Janusz\\AppData\\Roaming\\nltk_data...\n",
      "[nltk_data]   Package wordnet is already up-to-date!\n",
      "[nltk_data] Downloading package stopwords to\n",
      "[nltk_data]     C:\\Users\\Janusz\\AppData\\Roaming\\nltk_data...\n",
      "[nltk_data]   Package stopwords is already up-to-date!\n"
     ]
    }
   ],
   "source": [
    "import regex as re\n",
    "import collections\n",
    "import numpy as np\n",
    "import pandas as pd\n",
    "import pickle\n",
    "import matplotlib.pyplot as plt\n",
    "%matplotlib inline\n",
    "import nltk.tokenize\n",
    "from nltk.lm.preprocessing import padded_everygram_pipeline\n",
    "from nltk.lm import MLE, KneserNeyInterpolated\n",
    "from nltk.metrics.agreement import AnnotationTask\n",
    "\n",
    "nltk.download(\"punkt\")\n",
    "nltk.download('wordnet')\n",
    "nltk.download('stopwords')\n",
    "\n",
    "from sklearn.utils import resample,shuffle\n",
    "from nltk.corpus import stopwords\n",
    "from sklearn.linear_model import SGDClassifier\n",
    "from imblearn.pipeline import Pipeline\n",
    "from sklearn.feature_extraction.text import CountVectorizer\n",
    "from imblearn.over_sampling import SMOTE\n",
    "from sklearn.feature_extraction.text import TfidfTransformer\n",
    "from sklearn.metrics import classification_report\n"
   ]
  },
  {
   "cell_type": "markdown",
   "id": "47aabff5",
   "metadata": {},
   "source": [
    "## Defining functions "
   ]
  },
  {
   "cell_type": "code",
   "execution_count": 3,
   "id": "elder-amplifier",
   "metadata": {},
   "outputs": [],
   "source": [
    "def tokenize(text):\n",
    "    # Initialise lists\n",
    "    tokens = []\n",
    "    \n",
    "    stop_words = set(stopwords.words('english'))\n",
    "    \n",
    "    # since we do not use unmatchable it is commented out \n",
    "    # unmatchable = []\n",
    "\n",
    "    # Compile patterns for speedup\n",
    "    \n",
    "    token_pat = re.compile(r'[\\w|#]+|\\p{Emoji}+') # parts of words and emojis\n",
    "    skippable_pat = re.compile(r'\\s+')  # typically spaces\n",
    "    # Analyze one line at the time as splicing big chunks of text is highly inefficient\n",
    "    for line in text.split('\\n'):\n",
    "        line = line.casefold()\n",
    "        # As long as there's any material left...\n",
    "        while line:\n",
    "            # Try finding a skippable token delimiter first.\n",
    "            skippable_match = re.search(skippable_pat, line)\n",
    "            if skippable_match and skippable_match.start() == 0:\n",
    "                # If there is one at the beginning of the line, just skip it.\n",
    "                line = line[skippable_match.end():]\n",
    "            else:\n",
    "                # Else try finding a real token.\n",
    "                token_match = re.search(token_pat, line)\n",
    "                if token_match and token_match.start() == 0: # If there is one at the beginning of the line, tokenise it.\n",
    "                    if line[:token_match.end()] != 'user' and line[:token_match.end()] not in stop_words : # skipping censored Twitter handles and stopwords\n",
    "                        tokens.append(line[:token_match.end()])\n",
    "                    line = line[token_match.end():]\n",
    "                    \n",
    "                else:\n",
    "                    # Else there is unmatchable material here.\n",
    "                    # It ends where a skippable or token match starts, or at the end of the line.\n",
    "                    unmatchable_end = len(line)\n",
    "                    if skippable_match:\n",
    "                        unmatchable_end = skippable_match.start()\n",
    "                    if token_match:\n",
    "                        unmatchable_end = min(unmatchable_end, token_match.start())\n",
    "                    # Add it to unmatchable and discard from line.\n",
    "                    # unmatchable.append(line[:unmatchable_end])\n",
    "                    line = line[unmatchable_end:]\n",
    "\n",
    "    return tokens"
   ]
  },
  {
   "cell_type": "code",
   "execution_count": 4,
   "id": "velvet-federation",
   "metadata": {},
   "outputs": [],
   "source": [
    "def freq_plot(tokens, voc, idx):\n",
    "    \n",
    "    \n",
    "    frq = pd.DataFrame(voc.most_common(), columns=['token', 'frequency'])\n",
    "\n",
    "    # Index in the sorted list\n",
    "    frq['idx'] = frq.index + 1\n",
    "\n",
    "    # Frequency normalised by corpus size\n",
    "    frq['norm_freq'] = frq.frequency / len(tokens)\n",
    "\n",
    "    # Cumulative normalised frequency\n",
    "    frq['cumul_frq'] = frq.norm_freq.cumsum()\n",
    "    \n",
    "    xlabel = 'Index'\n",
    "    ylabel = 'Cumulative frequency'\n",
    "    \n",
    "    fig, axs = plt.subplots(1, 3,figsize=(12,7))\n",
    "    \n",
    "    fig.suptitle(idx) \n",
    "    \n",
    "    # Plot: Cumulative frequency by index\n",
    "    axs[0].scatter(x='idx', y='cumul_frq', data=frq)\n",
    "    axs[0].set_xlabel(xlabel)\n",
    "    axs[0].set_ylabel(ylabel)\n",
    "\n",
    "    # Plot: Cumulative frequency by index, top 10000 tokens\n",
    "    axs[1].scatter(x='idx', y='cumul_frq', data=frq[:10000])\n",
    "    axs[1].set_xlabel(xlabel)\n",
    "    axs[1].set_ylabel(ylabel)\n",
    "\n",
    "    # Plot: Log-log plot for Zipf's law\n",
    "    \n",
    "    frq['log_frq'] = np.log(frq.frequency)\n",
    "    frq['log_rank'] = np.log(frq.frequency.rank(ascending=False))\n",
    "    \n",
    "    #x = range(1,len(frq['log_rank']),1)\n",
    "    #y = range(len(frq['log_rank']),1,-1)\n",
    "    axs[2].scatter(x='log_rank', y='log_frq', data=frq)\n",
    "    #y_lim = axs[2].ylim()\n",
    "    #x_lim = axs[2].xlim()\n",
    "    #axs[2].plot(x , y , color = 'r')\n",
    "    #axs[2].ylim(y_lim)\n",
    "    #axs[2].xlim(x_lim)\n",
    "    axs[2].set_xlabel(\"log(rank)\")\n",
    "    axs[2].set_ylabel(\"log(frequency)\")\n",
    "\n",
    "    \n",
    "    plt.tight_layout()\n",
    "    \n",
    "    fig.show()\n",
    "    "
   ]
  },
  {
   "cell_type": "code",
   "execution_count": 152,
   "id": "1fe59ce9",
   "metadata": {},
   "outputs": [],
   "source": [
    "def read_text(path: str):\n",
    "    \n",
    "    val = list()\n",
    "    text = open(f'../data/{idx}/{path}', 'r', encoding='utf-8').read().splitlines()\n",
    "        \n",
    "    for line in text: # divide tweets\n",
    "        \n",
    "        val.append(nltk.tokenize.sent_tokenize(line)) # add sentences to tweet list\n",
    "    \n",
    "        for i in range(len(val[-1])): # tokenise sentences in the tweet \n",
    "        \n",
    "            val[-1][i] = tokenize(val[-1][i])\n",
    "    \n",
    "    return val "
   ]
  },
  {
   "cell_type": "code",
   "execution_count": 6,
   "id": "5d8e5cfd",
   "metadata": {},
   "outputs": [],
   "source": [
    "def zips_law_plot():\n",
    "    # create here a function to plot zip's law, with law line/curve \n",
    "    return None"
   ]
  },
  {
   "cell_type": "markdown",
   "id": "f228df66",
   "metadata": {},
   "source": [
    "## Tokenisers comparison  \n",
    "\n",
    "We compare two different tokenisation methods. The one from nltk library and the one provided with the slides I guess. "
   ]
  },
  {
   "cell_type": "code",
   "execution_count": 7,
   "id": "8a413113",
   "metadata": {},
   "outputs": [],
   "source": [
    "tk = nltk.tokenize.TweetTokenizer(preserve_case=False, strip_handles=True, reduce_len=True)"
   ]
  },
  {
   "cell_type": "code",
   "execution_count": 8,
   "id": "smart-paraguay",
   "metadata": {},
   "outputs": [
    {
     "name": "stdout",
     "output_type": "stream",
     "text": [
      "Offensive\n",
      "---------\n",
      "Our  tokenizer found 125030 tokens, 19135 of which (or 15.3%) are unique.\n",
      "TweetTokenizer found 271264 tokens, 19736 of which (or 7.28%) are unique.\n",
      "\n",
      "Sentiment\n",
      "---------\n",
      "Our  tokenizer found 537228 tokens, 45314 of which (or 8.43%) are unique.\n",
      "TweetTokenizer found 1015580 tokens, 49124 of which (or 4.84%) are unique.\n",
      "\n",
      "Gatsby\n",
      "------\n",
      "Our  tokenizer found 23634 tokens, 5694 of which (or 24.09%) are unique.\n",
      "TweetTokenizer found 61266 tokens, 5936 of which (or 9.69%) are unique.\n",
      "\n"
     ]
    }
   ],
   "source": [
    "# each element of this dictionary is a tuple, whose first element is tokens from tokenize()\n",
    "#and second is from TweetTokenizer()\n",
    "\n",
    "tokens = dict()\n",
    "counters = dict() # basically a bag of words \n",
    "\n",
    "# indices of the above dictionaries\n",
    "indices = ['offensive', 'sentiment', 'gatsby']\n",
    "\n",
    "for idx in indices:\n",
    "    if idx == 'gatsby':\n",
    "        # The Great Gatsby has a different path, we also need to remove Gutenberg's header and footer\n",
    "        text = open('../data/GreatGatsby.txt', 'r', encoding='utf-8').read().split('***')[2]\n",
    "    else:\n",
    "        text = open(f'../data/{idx}/train_text.txt', 'r', encoding='utf-8').read()\n",
    "    tokens[idx] = (tokenize(text), tk.tokenize(text))\n",
    "    counters[idx] = (collections.Counter(tokens[idx][0]), collections.Counter(tokens[idx][1]))\n",
    "    \n",
    "    print(idx.capitalize())\n",
    "    print('-' * len(idx))\n",
    "    \n",
    "    length = len(tokens[idx][0])\n",
    "    length_counter = len(counters[idx][0])\n",
    "    print(f\"\"\"Our  tokenizer found {length} tokens, {length_counter} of which\\\n",
    " (or {round(100 * length_counter / length, 2)}%) are unique.\"\"\")\n",
    "    length = len(tokens[idx][1])\n",
    "    length_counter = len(counters[idx][1])\n",
    "    print(f\"\"\"TweetTokenizer found {length} tokens, {length_counter} of which\\\n",
    " (or {round(100 * length_counter / length, 2)}%) are unique.\\n\"\"\")"
   ]
  },
  {
   "cell_type": "code",
   "execution_count": 9,
   "id": "91fa1049",
   "metadata": {},
   "outputs": [
    {
     "name": "stdout",
     "output_type": "stream",
     "text": [
      "20 most common words\n",
      "\n",
      "Offensive our tokeniser:\n",
      "1. liberals - 1245 occurences\n",
      "2. gun - 1244 occurences\n",
      "3. control - 1106 occurences\n",
      "4. like - 1005 occurences\n",
      "5. antifa - 1004 occurences\n",
      "6. people - 834 occurences\n",
      "7. conservatives - 776 occurences\n",
      "8. #maga - 737 occurences\n",
      "9. amp - 615 occurences\n",
      "10. get - 589 occurences\n",
      "11. one - 574 occurences\n",
      "12. know - 563 occurences\n",
      "13. trump - 533 occurences\n",
      "14. think - 487 occurences\n",
      "15. would - 472 occurences\n",
      "16. right - 444 occurences\n",
      "17. good - 419 occurences\n",
      "18. time - 353 occurences\n",
      "19. us - 349 occurences\n",
      "20. go - 349 occurences\n",
      "\n",
      "Offensive NLTK lib. tokeniser:\n",
      "1. . - 12805 occurences\n",
      "2. the - 8128 occurences\n",
      "3. is - 5859 occurences\n",
      "4. to - 5587 occurences\n",
      "5. a - 4840 occurences\n",
      "6. you - 4738 occurences\n",
      "7. and - 4600 occurences\n",
      "8. ! - 4332 occurences\n",
      "9. \" - 4238 occurences\n",
      "10. of - 3441 occurences\n",
      "11. are - 3235 occurences\n",
      "12. i - 3034 occurences\n",
      "13. he - 2646 occurences\n",
      "14. ? - 2638 occurences\n",
      "15. that - 2534 occurences\n",
      "16. in - 2427 occurences\n",
      "17. ’ - 2323 occurences\n",
      "18. for - 2247 occurences\n",
      "19. she - 2222 occurences\n",
      "20. it - 2055 occurences\n",
      "\n",
      "Sentiment our tokeniser:\n",
      "1. tomorrow - 7379 occurences\n",
      "2. may - 6679 occurences\n",
      "3. u002c - 4467 occurences\n",
      "4. day - 3866 occurences\n",
      "5. going - 3029 occurences\n",
      "6. night - 3013 occurences\n",
      "7. see - 2821 occurences\n",
      "8. friday - 2750 occurences\n",
      "9. sunday - 2669 occurences\n",
      "10. 1st - 2658 occurences\n",
      "11. like - 2494 occurences\n",
      "12. time - 2443 occurences\n",
      "13. get - 2232 occurences\n",
      "14. saturday - 2172 occurences\n",
      "15. amp - 2013 occurences\n",
      "16. go - 1981 occurences\n",
      "17. one - 1934 occurences\n",
      "18. 2nd - 1908 occurences\n",
      "19. new - 1855 occurences\n",
      "20. u2019s - 1803 occurences\n",
      "\n",
      "Sentiment NLTK lib. tokeniser:\n",
      "1. the - 37984 occurences\n",
      "2. . - 32530 occurences\n",
      "3. \" - 29124 occurences\n",
      "4. to - 20923 occurences\n",
      "5. , - 17627 occurences\n",
      "6. ! - 16090 occurences\n",
      "7. in - 13670 occurences\n",
      "8. i - 13604 occurences\n",
      "9. on - 13098 occurences\n",
      "10. a - 12983 occurences\n",
      "11. and - 12691 occurences\n",
      "12. of - 10887 occurences\n",
      "13. \\ - 10614 occurences\n",
      "14. for - 9988 occurences\n",
      "15. is - 9701 occurences\n",
      "16. ... - 8405 occurences\n",
      "17. you - 8280 occurences\n",
      "18. with - 7539 occurences\n",
      "19. be - 7248 occurences\n",
      "20. tomorrow - 7246 occurences\n",
      "\n",
      "Gatsby our tokeniser:\n",
      "1. gatsby - 264 occurences\n",
      "2. said - 235 occurences\n",
      "3. tom - 191 occurences\n",
      "4. daisy - 186 occurences\n",
      "5. one - 152 occurences\n",
      "6. like - 122 occurences\n",
      "7. man - 114 occurences\n",
      "8. back - 109 occurences\n",
      "9. came - 108 occurences\n",
      "10. little - 103 occurences\n",
      "11. know - 99 occurences\n",
      "12. house - 95 occurences\n",
      "13. went - 91 occurences\n",
      "14. eyes - 89 occurences\n",
      "15. looked - 85 occurences\n",
      "16. got - 85 occurences\n",
      "17. come - 84 occurences\n",
      "18. old - 84 occurences\n",
      "19. mr - 84 occurences\n",
      "20. time - 83 occurences\n",
      "\n",
      "Gatsby NLTK lib. tokeniser:\n",
      "1. . - 3105 occurences\n",
      "2. , - 2967 occurences\n",
      "3. the - 2398 occurences\n",
      "4. and - 1567 occurences\n",
      "5. “ - 1457 occurences\n",
      "6. ” - 1455 occurences\n",
      "7. a - 1408 occurences\n",
      "8. i - 1393 occurences\n",
      "9. ’ - 1346 occurences\n",
      "10. to - 1130 occurences\n",
      "11. of - 1116 occurences\n",
      "12. he - 854 occurences\n",
      "13. in - 806 occurences\n",
      "14. was - 768 occurences\n",
      "15. that - 642 occurences\n",
      "16. it - 606 occurences\n",
      "17. you - 522 occurences\n",
      "18. his - 494 occurences\n",
      "19. s - 472 occurences\n",
      "20. with - 424 occurences\n",
      "\n"
     ]
    }
   ],
   "source": [
    "print('20 most common words\\n')\n",
    "for idx in indices:\n",
    "    print(f'{idx.capitalize()} our tokeniser:')\n",
    "    for rank, word in enumerate(counters[idx][0].most_common(20), 1):\n",
    "        print(f'{rank}. {word[0]} - {word[1]} occurences')\n",
    "    print()    \n",
    "    \n",
    "    print(f'{idx.capitalize()} NLTK lib. tokeniser:')\n",
    "    for rank, word in enumerate(counters[idx][1].most_common(20), 1):\n",
    "        print(f'{rank}. {word[0]} - {word[1]} occurences')    \n",
    "    print()"
   ]
  },
  {
   "cell_type": "code",
   "execution_count": 10,
   "id": "dc3d78b2",
   "metadata": {},
   "outputs": [
    {
     "name": "stderr",
     "output_type": "stream",
     "text": [
      "<ipython-input-4-432de3536889>:51: UserWarning: Matplotlib is currently using module://ipykernel.pylab.backend_inline, which is a non-GUI backend, so cannot show the figure.\n",
      "  fig.show()\n"
     ]
    },
    {
     "data": {
      "image/png": "[encoded data removed]",
      "text/plain": [
       "<Figure size 864x504 with 3 Axes>"
      ]
     },
     "metadata": {
      "needs_background": "light"
     },
     "output_type": "display_data"
    },
    {
     "data": {
      "image/png": "[encoded data removed]",
      "text/plain": [
       "<Figure size 864x504 with 3 Axes>"
      ]
     },
     "metadata": {
      "needs_background": "light"
     },
     "output_type": "display_data"
    },
    {
     "data": {
      "image/png": "[encoded data removed]",
      "text/plain": [
       "<Figure size 864x504 with 3 Axes>"
      ]
     },
     "metadata": {
      "needs_background": "light"
     },
     "output_type": "display_data"
    }
   ],
   "source": [
    "for idx in indices:\n",
    "    freq_plot(tokens[idx][0], counters[idx][0],idx)\n"
   ]
  },
  {
   "cell_type": "code",
   "execution_count": 11,
   "id": "f39473ed",
   "metadata": {},
   "outputs": [],
   "source": [
    "# drop gatsby\n",
    "if \"gatsby\" in counters.keys():\n",
    "    del counters[\"gatsby\"]\n",
    "\n",
    "if \"gatsby\" in tokens.keys():\n",
    "    del tokens[\"gatsby\"]    \n",
    "\n",
    "indices = ['offensive', 'sentiment']"
   ]
  },
  {
   "cell_type": "code",
   "execution_count": 12,
   "id": "62ebc778",
   "metadata": {},
   "outputs": [],
   "source": [
    "# drop list at index 1 at all tuples because tweettokenizer generated weird n-grams, for example \"!\" \"!\" \"!\" or \"s\" \"u\" \"s\"\n",
    "# droping tweet tokeniser results at index 1 \n",
    "for idx in indices:\n",
    "    if type(tokens[idx]) == tuple :\n",
    "        tokens[idx] = tokens[idx][0]\n",
    "        \n",
    "    if type(counters[idx]) == tuple :\n",
    "        counters[idx] = counters[idx][0]\n",
    " "
   ]
  },
  {
   "cell_type": "code",
   "execution_count": 13,
   "id": "e990aec8",
   "metadata": {},
   "outputs": [
    {
     "name": "stdout",
     "output_type": "stream",
     "text": [
      "the most frequent words in general word list for English\n",
      "   lemma\n",
      "0    the\n",
      "1     be\n",
      "2    and\n",
      "3      a\n",
      "4     of\n",
      "5     to\n",
      "6     in\n",
      "7      i\n",
      "8    you\n",
      "9     it\n",
      "10  have\n",
      "11    to\n",
      "12  that\n",
      "13   for\n",
      "14    do\n",
      "15    he\n",
      "16  with\n",
      "17    on\n",
      "18  this\n",
      "19   n't\n",
      "\n",
      "Offensive:\n",
      "0    liberals\n",
      "1    gun\n",
      "2    control\n",
      "3    like\n",
      "4    antifa\n",
      "5    people\n",
      "6    conservatives\n",
      "7    #maga\n",
      "8    amp\n",
      "9    get\n",
      "10    one\n",
      "11    know\n",
      "12    trump\n",
      "13    think\n",
      "14    would\n",
      "15    right\n",
      "16    good\n",
      "17    time\n",
      "18    us\n",
      "19    go\n",
      "\n",
      "Sentiment:\n",
      "0    tomorrow\n",
      "1    may\n",
      "2    u002c\n",
      "3    day\n",
      "4    going\n",
      "5    night\n",
      "6    see\n",
      "7    friday\n",
      "8    sunday\n",
      "9    1st\n",
      "10    like\n",
      "11    time\n",
      "12    get\n",
      "13    saturday\n",
      "14    amp\n",
      "15    go\n",
      "16    one\n",
      "17    2nd\n",
      "18    new\n",
      "19    u2019s\n",
      "\n"
     ]
    }
   ],
   "source": [
    "#Compare the most frequent words with a general word list for English\n",
    "wordfre = pd.read_excel(r'../data/wordFrequency.xlsx', sheet_name='1 lemmas')\n",
    "fre_words = pd.DataFrame(wordfre, columns= ['lemma'])\n",
    "print(\"the most frequent words in general word list for English\")\n",
    "print(fre_words.head(20))\n",
    "print()\n",
    "\n",
    "for idx in indices:\n",
    "    print(f'{idx.capitalize()}:')\n",
    "    for rank, word in enumerate(counters[idx].most_common(20)):\n",
    "        print(f'{rank}    {word[0]}')\n",
    "    print()\n",
    " "
   ]
  },
  {
   "cell_type": "code",
   "execution_count": 14,
   "id": "ada4df48",
   "metadata": {},
   "outputs": [],
   "source": [
    "# add What types of tokens occur only once, or 2 or 3 times?"
   ]
  },
  {
   "cell_type": "markdown",
   "id": "cdc0cd5e",
   "metadata": {},
   "source": [
    "## n-grams generation"
   ]
  },
  {
   "cell_type": "code",
   "execution_count": 15,
   "id": "9f88adc1",
   "metadata": {
    "scrolled": true
   },
   "outputs": [],
   "source": [
    "#xd = list(zip(tokens[\"offensive\"], tokens[\"offensive\"][1:]))\n",
    "#collections.Counter(xd).most_common(20)"
   ]
  },
  {
   "cell_type": "code",
   "execution_count": 16,
   "id": "paperback-lemon",
   "metadata": {},
   "outputs": [],
   "source": [
    "#xd = list(zip(tokens[\"offensive\"], tokens[\"offensive\"][1:], tokens[\"offensive\"][2:]))\n",
    "#collections.Counter(xd).most_common(20)"
   ]
  },
  {
   "cell_type": "code",
   "execution_count": 17,
   "id": "5963693b",
   "metadata": {},
   "outputs": [],
   "source": [
    "#xd = list(zip(tokens[\"offensive\"], tokens[\"offensive\"][1:], tokens[\"offensive\"][2:], tokens[\"offensive\"][3:]))\n",
    "#collections.Counter(xd).most_common(20)"
   ]
  },
  {
   "cell_type": "code",
   "execution_count": 18,
   "id": "4a38ebca",
   "metadata": {},
   "outputs": [],
   "source": [
    "#xd = list(zip(tokens[\"offensive\"], tokens[\"offensive\"][1:], tokens[\"offensive\"][2:], tokens[\"offensive\"][3:], tokens[\"offensive\"][4:], tokens[\"offensive\"][5:], tokens[\"offensive\"][6:], tokens[\"offensive\"][7:]))\n",
    "#collections.Counter(xd).most_common(20)"
   ]
  },
  {
   "cell_type": "code",
   "execution_count": 19,
   "id": "2ada56c4",
   "metadata": {},
   "outputs": [],
   "source": [
    "tweets = list()\n",
    "idx = \"offensive\"\n",
    "text = open(f'../data/{idx}/train_text.txt', 'r', encoding='utf-8').read().splitlines()\n",
    "for line in text: # divide tweets\n",
    "    tweets.append(nltk.tokenize.sent_tokenize(line)) # add sentences to tweet list\n",
    "    for i in range(len(tweets[-1])): # tokenise sentences in the tweet \n",
    "        tweets[-1][i] = tokenize(tweets[-1][i])\n",
    "        "
   ]
  },
  {
   "cell_type": "code",
   "execution_count": 20,
   "id": "322b79a7",
   "metadata": {},
   "outputs": [
    {
     "data": {
      "text/plain": [
       "[['bono', 'cares'],\n",
       " ['soon',\n",
       "  'people',\n",
       "  'understand',\n",
       "  'gain',\n",
       "  'nothing',\n",
       "  'following',\n",
       "  'phony',\n",
       "  'celebrity'],\n",
       " ['become',\n",
       "  'leader',\n",
       "  'people',\n",
       "  'instead',\n",
       "  'help',\n",
       "  'support',\n",
       "  'fellow',\n",
       "  'countrymen']]"
      ]
     },
     "execution_count": 20,
     "metadata": {},
     "output_type": "execute_result"
    }
   ],
   "source": [
    "tweets[0]"
   ]
  },
  {
   "cell_type": "code",
   "execution_count": 21,
   "id": "31807641",
   "metadata": {},
   "outputs": [
    {
     "data": {
      "text/plain": [
       "[['looking', 'like', 'plant', '#maga', '#walkaway']]"
      ]
     },
     "execution_count": 21,
     "metadata": {},
     "output_type": "execute_result"
    }
   ],
   "source": [
    "tweets[6]"
   ]
  },
  {
   "cell_type": "markdown",
   "id": "f3937a7f",
   "metadata": {},
   "source": [
    "## Max. likelihood evaluation classifier  - perplexity classifier "
   ]
  },
  {
   "cell_type": "code",
   "execution_count": 22,
   "id": "cb3eff47",
   "metadata": {},
   "outputs": [
    {
     "name": "stdout",
     "output_type": "stream",
     "text": [
      "2\n",
      "---\n",
      "['accuser', '#maga', '#makeamericagreatagain', '</s>', '</s>', 'worst', 'mistake', 'much', '</s>', '</s>']\n",
      "3\n",
      "---\n",
      "['<s>', '<s>', '#danish', 'party', 'wants', 'deport', '#muslims', '#welfare', 'growing', 'fast']\n"
     ]
    }
   ],
   "source": [
    "lm = [None, None]\n",
    "for i in range(2, 4): # chnaged 7 to 4\n",
    "    lm.append(MLE(i))\n",
    "    train, vocab = padded_everygram_pipeline(i,[item for sublist in tweets for item in sublist])\n",
    "    lm[i].fit(train, vocab)\n",
    "    print(f'{i}\\n---')\n",
    "    print(lm[i].generate(10))"
   ]
  },
  {
   "cell_type": "code",
   "execution_count": 23,
   "id": "906dc10b",
   "metadata": {},
   "outputs": [
    {
     "name": "stdout",
     "output_type": "stream",
     "text": [
      "0.0\n",
      "0.0\n",
      "-inf\n",
      "-inf\n"
     ]
    }
   ],
   "source": [
    "print(lm[2].score(\"car\",[\"shit\"]))\n",
    "print(lm[2].score(\"Trump\",[\"idiot\"]))\n",
    "\n",
    "print(lm[2].logscore(\"car\",[\"shit\"]))\n",
    "print(lm[2].logscore(\"Trump\",[\"idiot\"]))"
   ]
  },
  {
   "cell_type": "code",
   "execution_count": 24,
   "id": "99db1c10",
   "metadata": {},
   "outputs": [],
   "source": [
    "val = read_text(\"val_text.txt\")"
   ]
  },
  {
   "cell_type": "code",
   "execution_count": 25,
   "id": "14d2b30e",
   "metadata": {},
   "outputs": [],
   "source": [
    "# # it does not work properly or is just confuding, ask TA about this part of code \n",
    "# for i in range(2, 4): # changed 7 to 4 \n",
    "#     val_test, _ = padded_everygram_pipeline(i, val)\n",
    "#     for n, t in enumerate(val_test):\n",
    "#         print(lm[i].perplexity(t))\n",
    "        "
   ]
  },
  {
   "cell_type": "markdown",
   "id": "8636d994",
   "metadata": {},
   "source": [
    "## KneserNeyInterpolated classifier - perplexity classifier "
   ]
  },
  {
   "cell_type": "code",
   "execution_count": 26,
   "id": "141116fe",
   "metadata": {},
   "outputs": [],
   "source": [
    "text = read_text(\"train_text.txt\")"
   ]
  },
  {
   "cell_type": "code",
   "execution_count": 27,
   "id": "28dda22d",
   "metadata": {},
   "outputs": [
    {
     "name": "stdout",
     "output_type": "stream",
     "text": [
      "2\n",
      "---\n",
      "['devastates', 'communities', 'across', 'uk', 'control', '</s>', 'polar', 'schizophrenia', 'tough', 'crap']\n",
      "3\n",
      "---\n",
      "['graphics', 'themself', 'spooky', 'hell', 'bright', 'makes', 'nauseous', '</s>', '</s>', '</s>']\n"
     ]
    }
   ],
   "source": [
    "lm = [None, None]\n",
    "for i in range(2, 4):\n",
    "    lm.append(KneserNeyInterpolated(i))\n",
    "    train, vocab = padded_everygram_pipeline(i ,text)\n",
    "    lm[i].fit(train, vocab)\n",
    "    print(f'{i}\\n---')\n",
    "    print(lm[i].generate(10))"
   ]
  },
  {
   "cell_type": "code",
   "execution_count": 28,
   "id": "43f260f0",
   "metadata": {},
   "outputs": [
    {
     "name": "stdout",
     "output_type": "stream",
     "text": [
      "3.1861014607637976e-06\n",
      "2.868740766240659e-06\n",
      "-18.259776359394387\n",
      "-18.411150964464916\n"
     ]
    }
   ],
   "source": [
    "print(lm[2].score(\"car\",[\"shit\"]))\n",
    "print(lm[2].score(\"Trump\",[\"idiot\"]))\n",
    "\n",
    "print(lm[2].logscore(\"car\",[\"shit\"]))\n",
    "print(lm[2].logscore(\"Trump\",[\"idiot\"]))"
   ]
  },
  {
   "cell_type": "code",
   "execution_count": 29,
   "id": "88f7b24e",
   "metadata": {},
   "outputs": [],
   "source": [
    "val = read_text(\"val_text.txt\")"
   ]
  },
  {
   "cell_type": "code",
   "execution_count": 30,
   "id": "fe3d402d",
   "metadata": {},
   "outputs": [],
   "source": [
    "# for i in range(2, 4): # changed 7 to 4 \n",
    "#     val_test, _ = padded_everygram_pipeline(i, val)\n",
    "#     for n, t in enumerate(val_test):\n",
    "#         print(lm[i].perplexity(t))"
   ]
  },
  {
   "cell_type": "code",
   "execution_count": 31,
   "id": "b92541e3",
   "metadata": {},
   "outputs": [],
   "source": [
    "# choose some words, calculate for them perplexity in both models and compare them to each other, e.g. attempt to explain such perplexity score was achieved"
   ]
  },
  {
   "cell_type": "markdown",
   "id": "cb167429",
   "metadata": {},
   "source": [
    "##  inter-annotator agreement"
   ]
  },
  {
   "cell_type": "markdown",
   "id": "76b29d31",
   "metadata": {},
   "source": [
    "https://www.nltk.org/_modules/nltk/metrics/agreement.html"
   ]
  },
  {
   "cell_type": "code",
   "execution_count": 32,
   "id": "4eec4526",
   "metadata": {},
   "outputs": [],
   "source": [
    "manual_labels = [x.split(\" \") for x in open('../data/Manual_analysis.txt')]\n",
    "a = AnnotationTask(manual_labels) # us and provided labels \n",
    "manual_labels = manual_labels[:-100] # delete provided labels\n",
    "provided_labels = manual_labels\n",
    "u = AnnotationTask(manual_labels) # only us"
   ]
  },
  {
   "cell_type": "code",
   "execution_count": 33,
   "id": "d9ef58c4",
   "metadata": {},
   "outputs": [
    {
     "name": "stdout",
     "output_type": "stream",
     "text": [
      "0.8099999999999999\n",
      "0.8350000000000001\n"
     ]
    }
   ],
   "source": [
    "print(a.avg_Ao()) # degree of agreement Average observed agreement across all coders and items.\n",
    "print(u.avg_Ao())"
   ]
  },
  {
   "cell_type": "code",
   "execution_count": 34,
   "id": "2317f279",
   "metadata": {},
   "outputs": [
    {
     "name": "stdout",
     "output_type": "stream",
     "text": [
      "0.5676394021590722\n",
      "0.6125737430659507\n"
     ]
    }
   ],
   "source": [
    "print(a.pi()) #Scott 1955; here, multi-pi. Equivalent to K from Siegel and Castellan (1988).\n",
    "print(u.pi())"
   ]
  },
  {
   "cell_type": "markdown",
   "id": "068cfd2d",
   "metadata": {},
   "source": [
    "## Data preproccesing\n",
    "\n",
    "- lower case everything \n",
    "- divide into sentences \n",
    "- punctuation normalization https://towardsdatascience.com/text-normalization-with-spacy-and-nltk-1302ff430119\n",
    "- n-gram features, stop word lists"
   ]
  },
  {
   "cell_type": "markdown",
   "id": "b02f2fb8",
   "metadata": {},
   "source": [
    "## Automatic labeling with ML"
   ]
  },
  {
   "cell_type": "code",
   "execution_count": 115,
   "id": "d09803f7",
   "metadata": {},
   "outputs": [],
   "source": [
    "# Read the file, convert all elements from strings to integers\n",
    "off_labels = list(map(int, open('../data/offensive/train_labels.txt', 'r').read().splitlines()))"
   ]
  },
  {
   "cell_type": "code",
   "execution_count": 36,
   "id": "3ca62506",
   "metadata": {},
   "outputs": [
    {
     "data": {
      "text/plain": [
       "33.07317891910037"
      ]
     },
     "execution_count": 36,
     "metadata": {},
     "output_type": "execute_result"
    }
   ],
   "source": [
    "sum(off_labels)/len(off_labels) * 100"
   ]
  },
  {
   "cell_type": "markdown",
   "id": "e98ec277",
   "metadata": {},
   "source": [
    "## upsampling"
   ]
  },
  {
   "cell_type": "code",
   "execution_count": null,
   "id": "c90b3751",
   "metadata": {},
   "outputs": [],
   "source": [
    "def upsample(df, binary :bool):\n",
    "    if binary:\n",
    "        #set the minority class to a seperate dataframe\n",
    "        df_minor = df[df['label'] == 1]\n",
    "        #set majority class to another dataframe\n",
    "        df_major = df[df['label'] != 1]  \n",
    "        \n",
    "        if len(df_minor) > len(df_major) :\n",
    "            df_major, df_minor = df_minor, df_major\n",
    "       \n",
    "\n",
    "        #concatenate the upsampled dataframe\n",
    "        df = pd.concat([resample(df_minor,random_state=42,n_samples=len(df_major),replace=True),df_major])\n",
    "    \n",
    "\n",
    "    return(df)"
   ]
  },
  {
   "cell_type": "code",
   "execution_count": 105,
   "id": "cc742992",
   "metadata": {},
   "outputs": [
    {
     "data": {
      "text/html": [
       "<div>\n",
       "<style scoped>\n",
       "    .dataframe tbody tr th:only-of-type {\n",
       "        vertical-align: middle;\n",
       "    }\n",
       "\n",
       "    .dataframe tbody tr th {\n",
       "        vertical-align: top;\n",
       "    }\n",
       "\n",
       "    .dataframe thead th {\n",
       "        text-align: right;\n",
       "    }\n",
       "</style>\n",
       "<table border=\"1\" class=\"dataframe\">\n",
       "  <thead>\n",
       "    <tr style=\"text-align: right;\">\n",
       "      <th></th>\n",
       "      <th>label</th>\n",
       "      <th>tweet</th>\n",
       "    </tr>\n",
       "  </thead>\n",
       "  <tbody>\n",
       "    <tr>\n",
       "      <th>0</th>\n",
       "      <td>0</td>\n",
       "      <td>[bono, cares, soon, people, understand, gain, ...</td>\n",
       "    </tr>\n",
       "    <tr>\n",
       "      <th>1</th>\n",
       "      <td>1</td>\n",
       "      <td>[eight, years, republicans, denied, obama, pic...</td>\n",
       "    </tr>\n",
       "    <tr>\n",
       "      <th>2</th>\n",
       "      <td>0</td>\n",
       "      <td>[get, line, help, gonna, fine, game, went, cou...</td>\n",
       "    </tr>\n",
       "    <tr>\n",
       "      <th>3</th>\n",
       "      <td>0</td>\n",
       "      <td>[great, hi, fiona]</td>\n",
       "    </tr>\n",
       "    <tr>\n",
       "      <th>4</th>\n",
       "      <td>1</td>\n",
       "      <td>[become, parody, unto, certainly, taken, heat,...</td>\n",
       "    </tr>\n",
       "    <tr>\n",
       "      <th>5</th>\n",
       "      <td>0</td>\n",
       "      <td>[vetsresistsquadron, bullshit, girl, scout, ve...</td>\n",
       "    </tr>\n",
       "    <tr>\n",
       "      <th>6</th>\n",
       "      <td>1</td>\n",
       "      <td>[looking, like, plant, #maga, #walkaway]</td>\n",
       "    </tr>\n",
       "    <tr>\n",
       "      <th>7</th>\n",
       "      <td>0</td>\n",
       "      <td>[lol, except, successful, president, lifetimes...</td>\n",
       "    </tr>\n",
       "    <tr>\n",
       "      <th>8</th>\n",
       "      <td>0</td>\n",
       "      <td>[willie, fan, since, born, love, holding, rall...</td>\n",
       "    </tr>\n",
       "    <tr>\n",
       "      <th>9</th>\n",
       "      <td>0</td>\n",
       "      <td>[link, channel, plethora, topics, peruse]</td>\n",
       "    </tr>\n",
       "  </tbody>\n",
       "</table>\n",
       "</div>"
      ],
      "text/plain": [
       "   label                                              tweet\n",
       "0      0  [bono, cares, soon, people, understand, gain, ...\n",
       "1      1  [eight, years, republicans, denied, obama, pic...\n",
       "2      0  [get, line, help, gonna, fine, game, went, cou...\n",
       "3      0                                 [great, hi, fiona]\n",
       "4      1  [become, parody, unto, certainly, taken, heat,...\n",
       "5      0  [vetsresistsquadron, bullshit, girl, scout, ve...\n",
       "6      1           [looking, like, plant, #maga, #walkaway]\n",
       "7      0  [lol, except, successful, president, lifetimes...\n",
       "8      0  [willie, fan, since, born, love, holding, rall...\n",
       "9      0          [link, channel, plethora, topics, peruse]"
      ]
     },
     "execution_count": 105,
     "metadata": {},
     "output_type": "execute_result"
    }
   ],
   "source": [
    "df = pd.DataFrame(off_labels,columns =['label'])\n",
    "df[\"tweet\"] = tweets\n",
    "df.head(10)"
   ]
  },
  {
   "cell_type": "code",
   "execution_count": 69,
   "id": "2721d438",
   "metadata": {},
   "outputs": [
    {
     "data": {
      "text/html": [
       "<div>\n",
       "<style scoped>\n",
       "    .dataframe tbody tr th:only-of-type {\n",
       "        vertical-align: middle;\n",
       "    }\n",
       "\n",
       "    .dataframe tbody tr th {\n",
       "        vertical-align: top;\n",
       "    }\n",
       "\n",
       "    .dataframe thead th {\n",
       "        text-align: right;\n",
       "    }\n",
       "</style>\n",
       "<table border=\"1\" class=\"dataframe\">\n",
       "  <thead>\n",
       "    <tr style=\"text-align: right;\">\n",
       "      <th></th>\n",
       "      <th>label</th>\n",
       "      <th>tweet</th>\n",
       "    </tr>\n",
       "  </thead>\n",
       "  <tbody>\n",
       "    <tr>\n",
       "      <th>9657</th>\n",
       "      <td>1</td>\n",
       "      <td>[see, boobs, lol, 😂😜😘😇]</td>\n",
       "    </tr>\n",
       "    <tr>\n",
       "      <th>10662</th>\n",
       "      <td>1</td>\n",
       "      <td>[bull, shit, stop, putting, words, people, mou...</td>\n",
       "    </tr>\n",
       "    <tr>\n",
       "      <th>2530</th>\n",
       "      <td>1</td>\n",
       "      <td>[*, lives, chicago, *, thinks, gun, control, w...</td>\n",
       "    </tr>\n",
       "    <tr>\n",
       "      <th>3886</th>\n",
       "      <td>1</td>\n",
       "      <td>[little, ass, boy, 🐒]</td>\n",
       "    </tr>\n",
       "    <tr>\n",
       "      <th>3357</th>\n",
       "      <td>1</td>\n",
       "      <td>[total, phony]</td>\n",
       "    </tr>\n",
       "  </tbody>\n",
       "</table>\n",
       "</div>"
      ],
      "text/plain": [
       "       label                                              tweet\n",
       "9657       1                            [see, boobs, lol, 😂😜😘😇]\n",
       "10662      1  [bull, shit, stop, putting, words, people, mou...\n",
       "2530       1  [*, lives, chicago, *, thinks, gun, control, w...\n",
       "3886       1                              [little, ass, boy, 🐒]\n",
       "3357       1                                     [total, phony]"
      ]
     },
     "execution_count": 69,
     "metadata": {},
     "output_type": "execute_result"
    }
   ],
   "source": [
    "df = upsample(df, True)"
   ]
  },
  {
   "cell_type": "code",
   "execution_count": 70,
   "id": "449d6051",
   "metadata": {},
   "outputs": [
    {
     "data": {
      "text/plain": [
       "50.0"
      ]
     },
     "execution_count": 70,
     "metadata": {},
     "output_type": "execute_result"
    }
   ],
   "source": [
    "sum(df[\"label\"])/len(df[\"label\"]) * 100"
   ]
  },
  {
   "cell_type": "code",
   "execution_count": 92,
   "id": "29cc3211",
   "metadata": {},
   "outputs": [
    {
     "data": {
      "text/plain": [
       "['bono',\n",
       " 'cares',\n",
       " 'soon',\n",
       " 'people',\n",
       " 'understand',\n",
       " 'gain',\n",
       " 'nothing',\n",
       " 'following',\n",
       " 'phony',\n",
       " 'celebrity',\n",
       " 'become',\n",
       " 'leader',\n",
       " 'people',\n",
       " 'instead',\n",
       " 'help',\n",
       " 'support',\n",
       " 'fellow',\n",
       " 'countrymen']"
      ]
     },
     "execution_count": 92,
     "metadata": {},
     "output_type": "execute_result"
    }
   ],
   "source": [
    "df['tweet'][0]"
   ]
  },
  {
   "cell_type": "code",
   "execution_count": 168,
   "id": "bd80c9b1",
   "metadata": {},
   "outputs": [],
   "source": [
    "def ml_model(path:str):\n",
    "    \n",
    "    off_labels = list(map(int, open(f'../data/{path}/train_labels.txt', 'r').read().splitlines()))\n",
    "    df = pd.DataFrame(off_labels, columns =['label'])\n",
    "    tweets = open(f'../data/{path}/train_text.txt', 'r',encoding ='utf-8').read().splitlines()\n",
    "    df[\"tweet\"] = tweets\n",
    "\n",
    "    off_test_labels = list(map(int, open(f'../data/{path}/test_labels.txt', 'r').read().splitlines()))\n",
    "    df_test = pd.DataFrame(off_test_labels, columns =['label'])\n",
    "    tweets =  tweets = open(f'../data/{path}/test_text.txt', 'r',encoding ='utf-8').read().splitlines()\n",
    "    df_test[\"tweet\"] = tweets\n",
    "\n",
    "    pipeline = Pipeline([('vect', CountVectorizer()),\n",
    "                        ('ovs', SMOTE()),\n",
    "                        ('tfidf', TfidfTransformer()),\n",
    "                        ('clf', SGDClassifier(\"log\"))])\n",
    "    \n",
    "    pipeline.fit(df[\"tweet\"], df[\"label\"])\n",
    "    predictions = pipeline.predict(df_test[\"tweet\"])\n",
    "    \n",
    "    return classification_report(df_test[\"label\"], predictions)"
   ]
  },
  {
   "cell_type": "code",
   "execution_count": 170,
   "id": "09950ded",
   "metadata": {},
   "outputs": [
    {
     "name": "stdout",
     "output_type": "stream",
     "text": [
      "              precision    recall  f1-score   support\n",
      "\n",
      "           0       0.78      0.91      0.84       620\n",
      "           1       0.61      0.35      0.45       240\n",
      "\n",
      "    accuracy                           0.76       860\n",
      "   macro avg       0.70      0.63      0.65       860\n",
      "weighted avg       0.74      0.76      0.73       860\n",
      "\n"
     ]
    }
   ],
   "source": [
    "print(ml_model(\"offensive\"))"
   ]
  },
  {
   "cell_type": "code",
   "execution_count": null,
   "id": "06813105",
   "metadata": {},
   "outputs": [],
   "source": []
  }
 ],
 "metadata": {
  "kernelspec": {
   "display_name": "Python 3",
   "language": "python",
   "name": "python3"
  },
  "language_info": {
   "codemirror_mode": {
    "name": "ipython",
    "version": 3
   },
   "file_extension": ".py",
   "mimetype": "text/x-python",
   "name": "python",
   "nbconvert_exporter": "python",
   "pygments_lexer": "ipython3",
   "version": "3.8.8"
  }
 },
 "nbformat": 4,
 "nbformat_minor": 5
}
